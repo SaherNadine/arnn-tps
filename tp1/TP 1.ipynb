{
 "cells": [
  {
   "attachments": {},
   "cell_type": "markdown",
   "metadata": {
    "id": "23HhZ0TZl0zP"
   },
   "source": [
    "# TP 1 Mesures de performance\n",
    "Dans ce TP, nous aimerions avoir un premier aperçu sur les algorithmes d'apprentissage automatique. Plus précisément, nous aimerions évaluer leurs performances en utilisant les métriques suivantes:\n",
    "- Matrice de confusion\n",
    "- Rappel\n",
    "- Précision\n",
    "- Taux de FP\n",
    "- Spécificité\n",
    "- Courbe ROC\n",
    "\n",
    "Les mesures devront être calculées sur la tâche de classification des nombres manuscrits.\n",
    "\n",
    "Le travail consiste à implementer ces métriques et à les comparer avec les métriques des librairies disponibles.\n",
    "\n",
    "Les algorithmes : K plus Proches Voisins devront être implementés."
   ]
  },
  {
   "cell_type": "markdown",
   "metadata": {
    "id": "RnUKQQfjl0ze"
   },
   "source": [
    "# Importation des librairies necessaires au travail"
   ]
  },
  {
   "cell_type": "code",
   "execution_count": 1,
   "metadata": {
    "executionInfo": {
     "elapsed": 1671,
     "status": "ok",
     "timestamp": 1646692651996,
     "user": {
      "displayName": "Mounir Dekali",
      "photoUrl": "https://lh3.googleusercontent.com/a-/AOh14Gg8ysiB3LFZobpTpBaxvF4VcyOV4pcw95wF6Mdyhw=s64",
      "userId": "18151484264085085052"
     },
     "user_tz": -60
    },
    "id": "YDZVV6GVl0zg"
   },
   "outputs": [],
   "source": [
    "import numpy as np\n",
    "import pandas as pd\n",
    "import matplotlib.pyplot as plt\n",
    "from numpy import random\n",
    "from sklearn.neural_network import MLPClassifier\n",
    "from sklearn.model_selection import train_test_split\n",
    "from sklearn import svm\n",
    "from sklearn.tree import DecisionTreeClassifier\n",
    "from sklearn.neighbors import KNeighborsClassifier\n",
    "from sklearn.metrics import classification_report, confusion_matrix\n",
    "from sklearn.preprocessing import StandardScaler"
   ]
  },
  {
   "cell_type": "markdown",
   "metadata": {
    "id": "_nT_H3aPl0zm"
   },
   "source": [
    "# Lecture des fichiers de données à classifier\n",
    "Pour ce TP, nous allons lire les données à partir d'un fichier csv."
   ]
  },
  {
   "cell_type": "code",
   "execution_count": 2,
   "metadata": {
    "colab": {
     "base_uri": "https://localhost:8080/",
     "height": 363
    },
    "executionInfo": {
     "elapsed": 7,
     "status": "error",
     "timestamp": 1646692659670,
     "user": {
      "displayName": "Mounir Dekali",
      "photoUrl": "https://lh3.googleusercontent.com/a-/AOh14Gg8ysiB3LFZobpTpBaxvF4VcyOV4pcw95wF6Mdyhw=s64",
      "userId": "18151484264085085052"
     },
     "user_tz": -60
    },
    "id": "91b0p4qbl0zn",
    "outputId": "6122521a-5308-498d-e11e-17f66e01b07d"
   },
   "outputs": [
    {
     "name": "stdout",
     "output_type": "stream",
     "text": [
      "(5000, 400)\n"
     ]
    }
   ],
   "source": [
    "# données\n",
    "X = np.genfromtxt('data.csv', delimiter=',', dtype=int)\n",
    "# np.genfromtxt() permet de lire un fichier CSV et de le convertir en tableau NumPy\n",
    "# delimiter=',' : les valeurs sont séparées par des virgules\n",
    "# dtype=int : conversion des valeurs en entiers\n",
    "\n",
    "# Affichage des dimensions du tableau NumPy (nombre de lignes et de colonnes)\n",
    "print(X.shape)\n",
    "df = pd.read_csv(\"data.csv\",nrows=5000)"
   ]
  },
  {
   "cell_type": "code",
   "execution_count": 3,
   "metadata": {
    "colab": {
     "base_uri": "https://localhost:8080/"
    },
    "executionInfo": {
     "elapsed": 263,
     "status": "ok",
     "timestamp": 1646666818665,
     "user": {
      "displayName": "Mounir Dekali",
      "photoUrl": "https://lh3.googleusercontent.com/a-/AOh14Gg8ysiB3LFZobpTpBaxvF4VcyOV4pcw95wF6Mdyhw=s64",
      "userId": "18151484264085085052"
     },
     "user_tz": -60
    },
    "id": "j6KdcfC8l0zq",
    "outputId": "61a2ca31-b8d4-447d-e6f2-25d0ce9f8175"
   },
   "outputs": [
    {
     "data": {
      "text/plain": [
       "(5000,)"
      ]
     },
     "execution_count": 3,
     "metadata": {},
     "output_type": "execute_result"
    }
   ],
   "source": [
    "# étiquettes\n",
    "Y = np.genfromtxt('labels.csv', delimiter=',', dtype=int)\n",
    "Y.shape"
   ]
  },
  {
   "cell_type": "markdown",
   "metadata": {
    "id": "TY2OixHCl0zs"
   },
   "source": [
    "Afficher aléatoirement quelques données de notre base"
   ]
  },
  {
   "cell_type": "code",
   "execution_count": 4,
   "metadata": {
    "colab": {
     "base_uri": "https://localhost:8080/",
     "height": 118
    },
    "executionInfo": {
     "elapsed": 2304,
     "status": "ok",
     "timestamp": 1646666823844,
     "user": {
      "displayName": "Mounir Dekali",
      "photoUrl": "https://lh3.googleusercontent.com/a-/AOh14Gg8ysiB3LFZobpTpBaxvF4VcyOV4pcw95wF6Mdyhw=s64",
      "userId": "18151484264085085052"
     },
     "user_tz": -60
    },
    "id": "QMTnUdBql0zu",
    "outputId": "5b2dda71-20a2-4ab8-e707-a2e19c0f2fc8"
   },
   "outputs": [
    {
     "data": {
      "image/png": "[encoded data removed]",
      "text/plain": [
       "<Figure size 1500x800 with 13 Axes>"
      ]
     },
     "metadata": {},
     "output_type": "display_data"
    }
   ],
   "source": [
    "plt.figure(figsize=(15,8)) # Création d'une figure de taille 15x8 pouces\n",
    "for i in range(13): #note: each 500 lines, there is a new value que 13 images \n",
    "    c = random.randint(X.shape[0]) #pick a random line from the dataset \n",
    "    a = X[c,:].reshape((20, 20)) #shape of one number in the image \n",
    "    a=np.transpose(a) # la transposé (rendre les ligne des colonne et vice versa)\n",
    "    plt.subplot(1,13,i+1) # Création d'un sous-graphique pour afficher l'image\n",
    "    plt.title('label '+ str(Y[c])) # Ajout du titre avec l'étiquette correspondante\n",
    "    plt.imshow(a,cmap='gray') # Affichage de l'image en niveaux de gris"
   ]
  },
  {
   "cell_type": "markdown",
   "metadata": {
    "id": "UM03Af2dl0zv"
   },
   "source": [
    "Notons que l'étiquette 10 concerne le chiffre 0. L'étiquette a été utilisée ainsi afin de faciliter les calculs conséquents."
   ]
  },
  {
   "cell_type": "markdown",
   "metadata": {
    "id": "s80Yb_gul0zx"
   },
   "source": [
    "# Implémentation des métriques demandées\n",
    "Ici il faut écrire les fonctions, puis les appeler dans la suite du code"
   ]
  },
  {
   "attachments": {},
   "cell_type": "markdown",
   "metadata": {},
   "source": [
    "- Matrice de confusion :"
   ]
  },
  {
   "cell_type": "code",
   "execution_count": 5,
   "metadata": {},
   "outputs": [],
   "source": [
    "def Matrice_confusion(y_true, y_pred, label=None): #y_true :liste des classes vraies, y_pred :liste des classes prédites, label: liste des noms des classes\n",
    "    if label is None: #pas de label en entree \n",
    "        label = sorted(set(y_true) | set(y_pred)) # utilisation d'un ensemble pour éviter les doublons\n",
    "    \n",
    "    n_label=len(label)\n",
    "    matrice=np.full((n_label, n_label), fill_value=0, dtype=int) #creer la matrice remplie de zero \n",
    "    # Dictionnaire pour associer chaque classe à un indice\n",
    "    label_to_index = {classe: i for i, classe in enumerate(label)}\n",
    "    for vrai, predit in zip(y_true, y_pred):\n",
    "        matrice[label_to_index[vrai], label_to_index[predit]] += 1  # Incrémentation \n",
    "    #print(matrice)\n",
    "    return matrice\n",
    "\n",
    "#y_true = [0, 1, 2, 2, 0, 1, 1, 2, 0, 2]  # Classes réelles\n",
    "#y_pred = [0, 0, 2, 2, 0, 1, 2, 1, 0, 2]  # Prédictions du modèle\n",
    "#matrice_confusion(y_true, y_pred)\n"
   ]
  },
  {
   "attachments": {},
   "cell_type": "markdown",
   "metadata": {},
   "source": [
    "- Accuracy = (TP + TN)/(TP + TN + FP + FN)"
   ]
  },
  {
   "cell_type": "code",
   "execution_count": 6,
   "metadata": {},
   "outputs": [],
   "source": [
    "def Accuracy(y_true, y_pred): \n",
    "    y_true = np.array(y_true)  # Conversion en tableau NumPy\n",
    "    y_pred = np.array(y_pred)\n",
    "    correct = np.sum(y_true == y_pred)  # si y_true et y_pred sont de meme classe donc on incremente de 1 sinon on aura 0\n",
    "    total = len(y_true)  # Nombre total d'exemples\n",
    "    #print(correct )\n",
    "    return correct / total\n",
    "\n",
    "#y_true = [0, 1, 2, 2, 0, 1, 1, 2, 0, 2]  # Classes réelles\n",
    "#y_pred = [0, 0, 2, 2, 0, 1, 2, 1, 0, 2]  # Prédictions du modèle\n",
    "#accuracy(y_true, y_pred)"
   ]
  },
  {
   "attachments": {},
   "cell_type": "markdown",
   "metadata": {
    "id": "-mRS4onu-52j"
   },
   "source": [
    "- Recall (True Positive Rate) = TP/(TP + FN)"
   ]
  },
  {
   "cell_type": "code",
   "execution_count": 7,
   "metadata": {
    "colab": {
     "background_save": true
    },
    "id": "ReRWcXEYgeQe"
   },
   "outputs": [],
   "source": [
    "def Recall(y_true, y_pred, label):\n",
    "    y_true = np.array(y_true)  # Conversion en tableau NumPy\n",
    "    y_pred = np.array(y_pred)\n",
    "    TP = np.sum((y_true == label) & (y_pred == label)) \n",
    "    # TP = nombre d'éléments qui appartiennent à la classe (y_true == label)\n",
    "    # et qui ont été bien classés par le modèle (y_pred == label)\n",
    "    FN = np.sum((y_true == label) & (y_pred != label)) \n",
    "    # FN = nombre d'éléments qui appartiennent à la classe (y_true == label) \n",
    "    #et ont été mal prédits (y_pred != label)\n",
    "    if TP == 0 and FN == 0:\n",
    "        recall = 0 # pour eviter la division par zéro\n",
    "    else:\n",
    "        recall = TP / (TP + FN)\n",
    "    #print(recall,label)\n",
    "    return recall\n",
    "\n",
    "def AV_Recall(y_true,y_pred):\n",
    "    labels = np.unique(y_true)  # prend uniquement les classes présentes\n",
    "    total=sum(Recall(y_true, y_pred, label) for label in labels) #somme des recalls de toutes les classes \n",
    "    AV_recall=total/len(labels)\n",
    "    #print(AV_recall)\n",
    "    return AV_recall\n",
    "\n",
    "#y_true = [0, 1, 2, 2, 0, 1, 1, 2, 0, 2]  # Classes réelles\n",
    "#y_pred = [0, 0, 2, 2, 0, 1, 2, 1, 0, 2]  # Prédictions du modèle\n",
    "#AV_Recall(y_true, y_pred)"
   ]
  },
  {
   "attachments": {},
   "cell_type": "markdown",
   "metadata": {
    "id": "iy1P5tes-jM8"
   },
   "source": [
    "- Précision = TP/(TP + FP)"
   ]
  },
  {
   "cell_type": "code",
   "execution_count": 8,
   "metadata": {
    "colab": {
     "background_save": true
    },
    "id": "bnHz28P0Z36s"
   },
   "outputs": [],
   "source": [
    "def Precision(y_true, y_pred, label):\n",
    "    y_true = np.array(y_true)  \n",
    "    y_pred = np.array(y_pred)\n",
    "    TP = np.sum((y_true == label) & (y_pred == label)) \n",
    "    FP = np.sum((y_true != label) & (y_pred == label)) \n",
    "    if TP + FP == 0:\n",
    "        precision=0  # pour eviter la division par zéro\n",
    "    else: precision = TP / (TP + FP)\n",
    "    #print(precision,label)\n",
    "    return precision\n",
    "\n",
    "def AV_Precision(y_true,y_pred):\n",
    "    labels = np.unique(y_true)  # prend uniquement les classes présentes\n",
    "    total=sum(Precision(y_true, y_pred, label) for label in labels) #somme des precisions de toutes les classes \n",
    "    AV_precision=total/len(labels)\n",
    "    #print(AV_precision)\n",
    "    return AV_precision\n",
    "\n",
    "#y_true = [0, 1, 2, 2, 0, 1, 1, 2, 0, 2]  # Classes réelles\n",
    "#y_pred = [0, 0, 2, 2, 0, 1, 2, 1, 0, 2]  # Prédictions du modèle\n",
    "#AV_Precision(y_true, y_pred)"
   ]
  },
  {
   "attachments": {},
   "cell_type": "markdown",
   "metadata": {
    "id": "2SUXNHkz-qd5"
   },
   "source": [
    "- Taux de FP (False Positive Rate) = FP / (FP + TN)"
   ]
  },
  {
   "cell_type": "code",
   "execution_count": 9,
   "metadata": {
    "colab": {
     "background_save": true
    },
    "id": "r_o0qyv2l0z3"
   },
   "outputs": [],
   "source": [
    "def FPR(y_true, y_pred,label):\n",
    "    y_true = np.array(y_true)  \n",
    "    y_pred = np.array(y_pred)\n",
    "    FP = np.sum((y_true != label) & (y_pred == label)) \n",
    "    #TN = somme de tous les éléments sauf ceux de la ligne et de la colonne de la classe \n",
    "    if (label == 10): \n",
    "        label =0\n",
    "    TN = np.sum((y_true != label) & (y_pred != label))\n",
    "    if(TN+FP==0):\n",
    "        print (f'   The false positive rate of class {label}= 0' )\n",
    "        return 0\n",
    "    else: \n",
    "        print (f'   The false positive rate of class {label}= {FP / (FP+TN):.4f}' ) \n",
    "        return FP / (FP+TN)\n",
    "    \n",
    "def AV_FPR(y_true,y_pred):\n",
    "    labels = np.unique(y_true)  # prend uniquement les classes présentes\n",
    "    total=sum(FPR(y_true, y_pred, label) for label in labels) #somme des false positive rate de toutes les classes   \n",
    "    return total/len(labels)"
   ]
  },
  {
   "attachments": {},
   "cell_type": "markdown",
   "metadata": {
    "id": "7gx9qcAK-wnc"
   },
   "source": [
    "- Spécificité (True Negative Rate) = TN / (TN + FP)"
   ]
  },
  {
   "cell_type": "code",
   "execution_count": 10,
   "metadata": {
    "colab": {
     "background_save": true
    },
    "id": "DEXYGvurl0z5"
   },
   "outputs": [],
   "source": [
    "def TNR(y_true, y_pred,label):\n",
    "    y_true = np.array(y_true)  \n",
    "    y_pred = np.array(y_pred)\n",
    "    FP = np.sum((y_true != label) & (y_pred == label)) \n",
    "    #TN = somme de tous les éléments sauf ceux de la ligne et de la colonne de la classe \n",
    "    TN = np.sum((y_true != label) & (y_pred != label))\n",
    "    if(TN+FP==0):\n",
    "        print (f'  True negative rate of class {label}= 0' )\n",
    "        return 0\n",
    "    else: \n",
    "        print (f'   True negative rate of class {label}= {TN / (FP+TN):.4f}' )\n",
    "        return TN / (FP+TN)\n",
    "    \n",
    "def AV_TNR(y_true,y_pred):\n",
    "    labels = np.unique(y_true)  # prend uniquement les classes présentes\n",
    "    total=sum(TNR(y_true, y_pred, label) for label in labels) #somme des false positive rate de toutes les classes  \n",
    "    return total/len(labels)"
   ]
  },
  {
   "cell_type": "markdown",
   "metadata": {
    "id": "ENA_XiFMl0z5"
   },
   "source": [
    "- Courbe ROC"
   ]
  },
  {
   "cell_type": "code",
   "execution_count": null,
   "metadata": {
    "colab": {
     "background_save": true
    },
    "id": "YFmaIDffl0z6"
   },
   "outputs": [],
   "source": [
    "def roc_curve(actual, predicted_probabilities):\n",
    "    # Liste des seuils à utiliser pour binariser les prédictions de probabilité\n",
    "    thresholds= [1,2,3,4,5,6,7,8,9,10]\n",
    "    \n",
    "    # Liste pour stocker les taux de vrais positifs (TPR)\n",
    "    tpr_list = []  \n",
    "    \n",
    "    # Liste pour stocker les taux de faux positifs (FPR)\n",
    "    fpr_list = []  \n",
    "    \n",
    "    # Boucle à travers chaque seuil\n",
    "    for threshold in thresholds:\n",
    "        # Binarisation des prédictions de probabilité en utilisant le seuil actuel\n",
    "        labels=[1,2,3,4,5,6,7,8,9,10]\n",
    "        predicted_labels = [1 if prob >= threshold else 0 for prob in predicted_probabilities]  \n",
    "        #Cela permet de convertir les prédictions de probabilité en prédictions binaires.\n",
    "        \n",
    "        # Calcul du taux de vrais positifs (TPR) en utilisant la fonction recall_score\n",
    "        tpr = AV_Recall(actual, predicted_labels, labels)\n",
    "        \n",
    "        # Calcul du taux de faux positifs (FPR) en utilisant la fonction false_positive_rate\n",
    "        fpr = FPR(actual, predicted_labels, labels)\n",
    "        \n",
    "        # Ajout du TPR calculé à la liste des TPR\n",
    "        tpr_list.append(tpr)\n",
    "        \n",
    "        # Ajout du FPR calculé à la liste des FPR\n",
    "        fpr_list.append(fpr)\n",
    "\n",
    "    # Retourne les listes des TPR et FPR calculés\n",
    "    return tpr_list, fpr_list"
   ]
  },
  {
   "cell_type": "markdown",
   "metadata": {
    "id": "IHfn7fgbl0z6"
   },
   "source": [
    "# Classification"
   ]
  },
  {
   "cell_type": "markdown",
   "metadata": {
    "id": "PGKbOn3el0z7"
   },
   "source": [
    "Définir d'abord la base d'entrainement Xt, Yt et la base de test Xtt, Ytt"
   ]
  },
  {
   "cell_type": "code",
   "execution_count": 12,
   "metadata": {
    "executionInfo": {
     "elapsed": 250,
     "status": "ok",
     "timestamp": 1646667242179,
     "user": {
      "displayName": "Mounir Dekali",
      "photoUrl": "https://lh3.googleusercontent.com/a-/AOh14Gg8ysiB3LFZobpTpBaxvF4VcyOV4pcw95wF6Mdyhw=s64",
      "userId": "18151484264085085052"
     },
     "user_tz": -60
    },
    "id": "mH2tdgEPl0z7"
   },
   "outputs": [],
   "source": [
    "scaler = StandardScaler()\n",
    "scaler.fit(X)\n",
    "scaled_features = scaler.transform(X)\n",
    "Xt, Xtt, Yt, Ytt = train_test_split(\n",
    "      scaled_features, Y, test_size = 0.30)"
   ]
  },
  {
   "cell_type": "markdown",
   "metadata": {
    "id": "ZEArHIKJl0z8"
   },
   "source": [
    "# Méthode 0: K- Plus Proches Voisins"
   ]
  },
  {
   "cell_type": "markdown",
   "metadata": {
    "id": "Uh7xVfJUl0z9"
   },
   "source": [
    "Ici il faudra implémenter la méthode, puis la tester et vérifier les métriques en variant le nombre K"
   ]
  },
  {
   "cell_type": "code",
   "execution_count": 13,
   "metadata": {
    "id": "1lKZnt7zl0z9"
   },
   "outputs": [],
   "source": [
    "#Partie implementation de KNN : Ait Moussa Ali \n",
    "#Definir une fonction qui permet de calculer la distance entre deux points\n",
    "def calculate_distance(point1,point2):\n",
    "    return np.linalg.norm(point1 - point2)\n",
    "\n",
    "#Definir une fonction qui permet de predire la classe d'un point (version avec numpy functions)\n",
    "def KNN(X_train, Y_train, X_test, k):\n",
    "    predictions = []\n",
    "    for c in X_test:\n",
    "        distances = np.array([calculate_distance(c, x) for x in X_train]) #calcul de la distance entre chaque point de x_test et tous les points de X_train\n",
    "        k_indices = np.argsort(distances)[:k] #recuperation des indices des k plus petites distances\n",
    "        k_nearest_labels = Y_train[k_indices] #recuperation des labels des k plus proches voisins\n",
    "        prediction = np.argmax(np.bincount(k_nearest_labels)) #recuperation de la classe ayant la plus grande occurence\n",
    "        predictions.append(prediction) #ajout de la prediction au tableau de prediction\n",
    "    \n",
    "    return predictions #retourner le tableau de prediction\n",
    "#Definir une fonction qui permet de predire la classe d'un point (version sans numpy functions)\n",
    "def KNN_2(X_train, Y_train, X_test, k):\n",
    "    prediction = np.array([]) #initialisation du tableau de prediction\n",
    "    occuerence = np.array([0]*(max(Y_train)+1)) #initialisation du tableau d'occurence\n",
    "    for c in X_test:\n",
    "        distance = np.array([])\n",
    "        for i in X_train:\n",
    "            distance = np.append(distance,calculate_distance(c,i)) #calcul de la distance entre le point c et tous les points de X_train\n",
    "        \n",
    "        distances = np.sort(distance) #tri des distances\n",
    "        distances = distances[:k] #selection des k plus petites distances\n",
    "        for i in distances:\n",
    "            index = np.where(distance == i) #recuperation de l'indice de la distance\n",
    "            occuerence[Y_train[index]] += 1 #incrementation de l'occurence de la classe correspondante\n",
    "        prediction = np.append(prediction,np.argmax(occuerence)) #recuperation de la classe ayant la plus grande occurence avec argmax\n",
    "        occuerence = np.array([0]*(max(Y_train)+1)) #reinitialisation du tableau d'occurence\n",
    "    return prediction #retourner le tableau de prediction\n"
   ]
  },
  {
   "cell_type": "code",
   "execution_count": 14,
   "metadata": {},
   "outputs": [
    {
     "name": "stdout",
     "output_type": "stream",
     "text": [
      "Comparaison des résultats\n",
      "Matrice de confusion (Ma version) :\n",
      "[[150   2   0   0   0   0   0   0   0   0]\n",
      " [  5 124   5   5   2   5   3   4   0   2]\n",
      " [  4   6 136   1   1   0   1   1   3   1]\n",
      " [  6   2   0 121   2   0   0   1  11   0]\n",
      " [  4   1  10   3 117   1   0   3   1   1]\n",
      " [  0   2   0   2   3 130   0   0   0   6]\n",
      " [  8   1   2   9   0   0 130   0   8   0]\n",
      " [  1   1   8   1   9   0   0 107   1   4]\n",
      " [  2   0   3  12   0   0  10   0 130   1]\n",
      " [  0   2   1   1   1   1   0   0   0 158]]\n",
      "Matrice de confusion (sklearn) :\n",
      "[[150   2   0   0   0   0   0   0   0   0]\n",
      " [  5 124   5   5   2   5   3   4   0   2]\n",
      " [  4   6 136   1   1   0   1   1   3   1]\n",
      " [  6   2   0 121   2   0   0   1  11   0]\n",
      " [  4   1  10   3 117   1   0   3   1   1]\n",
      " [  0   2   0   2   3 130   0   0   0   6]\n",
      " [  8   1   2   9   0   0 130   0   8   0]\n",
      " [  1   1   8   1   9   0   0 107   1   4]\n",
      " [  2   0   3  12   0   0  10   0 130   1]\n",
      " [  0   2   1   1   1   1   0   0   0 158]]\n",
      "Accuracy (Ma version) : 0.8687\n",
      "Accuracy (sklearn) : 0.8687\n",
      "Recall (Ma version) : 0.8675\n",
      "Recall (sklearn) : 0.8675\n",
      "Precision (Ma version) : 0.8716\n",
      "Precision (sklearn) : 0.8716\n"
     ]
    }
   ],
   "source": [
    "from sklearn.metrics import confusion_matrix, accuracy_score, recall_score, precision_score\n",
    "\n",
    "# Normalisation\n",
    "scaler = StandardScaler()\n",
    "X = scaler.fit_transform(X)\n",
    "\n",
    "# Division en train et test\n",
    "Xt, Xtt, Yt, Ytt = train_test_split(X, Y, test_size=0.3, random_state=42)\n",
    "\n",
    "# Appliquer KNN (ma version)\n",
    "k = 3\n",
    "y_pred_knn = KNN(Xt, Yt, Xtt, k)\n",
    "\n",
    "# Appliquer KNN (sklearn)\n",
    "sklearn_knn = KNeighborsClassifier(n_neighbors=k)\n",
    "sklearn_knn.fit(Xt, Yt)\n",
    "y_pred_sklearn = sklearn_knn.predict(Xtt)\n",
    "# Calcul des métriques (ma version)\n",
    "mat_conf = Matrice_confusion(Ytt, y_pred_knn)\n",
    "acc = Accuracy(Ytt, y_pred_knn)\n",
    "avg_rec = AV_Recall(Ytt, y_pred_knn)\n",
    "avg_prec = AV_Precision(Ytt, y_pred_knn)\n",
    "\n",
    "# Calcul des métriques (sklearn)\n",
    "mat_conf_sklearn = confusion_matrix(Ytt, y_pred_sklearn)\n",
    "acc_sklearn = accuracy_score(Ytt, y_pred_sklearn)\n",
    "recall_sklearn = recall_score(Ytt, y_pred_sklearn, average='macro')\n",
    "precision_sklearn = precision_score(Ytt, y_pred_sklearn, average='macro')\n",
    "\n",
    "# Affichage des résultats\n",
    "print(\"Comparaison des résultats\")\n",
    "print(f\"Matrice de confusion (Ma version) :\\n{mat_conf}\")\n",
    "print(f\"Matrice de confusion (sklearn) :\\n{mat_conf_sklearn}\")\n",
    "print(f\"Accuracy (Ma version) : {acc:.4f}\")\n",
    "print(f\"Accuracy (sklearn) : {acc_sklearn:.4f}\")\n",
    "print(f\"Recall (Ma version) : {avg_rec:.4f}\")\n",
    "print(f\"Recall (sklearn) : {recall_sklearn:.4f}\")\n",
    "print(f\"Precision (Ma version) : {avg_prec:.4f}\")\n",
    "print(f\"Precision (sklearn) : {precision_sklearn:.4f}\")"
   ]
  },
  {
   "cell_type": "markdown",
   "metadata": {
    "id": "v9wv0lPTl0z-",
    "scrolled": false
   },
   "source": [
    "# Méthode 1: MVS\n",
    "Machine à Vecteurs de Support"
   ]
  },
  {
   "cell_type": "code",
   "execution_count": 15,
   "metadata": {
    "colab": {
     "background_save": true
    },
    "id": "I87X5WBKl0z_"
   },
   "outputs": [
    {
     "name": "stdout",
     "output_type": "stream",
     "text": [
      "SVM:\n",
      "Confusion Matrix:\n",
      "[[148   1   0   0   1   0   0   0   2   0]\n",
      " [  2 136   4   3   2   1   0   7   0   0]\n",
      " [  2   5 134   1   5   1   1   3   2   0]\n",
      " [  0   3   0 129   0   0   1   1   9   0]\n",
      " [  3   0  12   3 123   0   0   0   0   0]\n",
      " [  0   0   0   0   1 139   0   0   0   3]\n",
      " [  3   2   0   3   1   1 142   1   5   0]\n",
      " [  2   5   2   0   5   1   0 116   1   0]\n",
      " [  0   0   1   7   2   1   6   0 140   1]\n",
      " [  0   1   0   0   0   0   0   1   0 162]]\n",
      "Accuracy: 0.9126666666666666\n",
      "Recall: 0.9119102618571624\n",
      "Precision: 0.9119414964517899\n",
      "- False Positive Rate of each class: \n",
      "   The false positive rate of class 1= 0.0089\n",
      "   The false positive rate of class 2= 0.0126\n",
      "   The false positive rate of class 3= 0.0141\n",
      "   The false positive rate of class 4= 0.0125\n",
      "   The false positive rate of class 5= 0.0125\n",
      "   The false positive rate of class 6= 0.0037\n",
      "   The false positive rate of class 7= 0.0060\n",
      "   The false positive rate of class 8= 0.0095\n",
      "   The false positive rate of class 9= 0.0142\n",
      "   The false positive rate of class 0= 0.0027\n",
      "False positive rate: 0.0097\n",
      "- True Negative Rate of each class: \n",
      "   True negative rate of class 1= 0.9911\n",
      "   True negative rate of class 2= 0.9874\n",
      "   True negative rate of class 3= 0.9859\n",
      "   True negative rate of class 4= 0.9875\n",
      "   True negative rate of class 5= 0.9875\n",
      "   True negative rate of class 6= 0.9963\n",
      "   True negative rate of class 7= 0.9940\n",
      "   True negative rate of class 8= 0.9905\n",
      "   True negative rate of class 9= 0.9858\n",
      "   True negative rate of class 10= 0.9970\n",
      "True negative rate: 0.9903\n"
     ]
    }
   ],
   "source": [
    "#Créer le modèle\n",
    "model= svm.SVC(kernel='linear') \n",
    "# entrainement \n",
    "model.fit(Xt, Yt)\n",
    "# Prediction\n",
    "y_pred = model.predict(Xtt)\n",
    "#definir les classes \n",
    "labels = [1, 2,3,4,5,7,8,9,10]\n",
    "# calcul des metriques \n",
    "matrice_confusion = Matrice_confusion(Ytt, y_pred)  \n",
    "accuracy = Accuracy(Ytt, y_pred)  \n",
    "recall = AV_Recall(Ytt, y_pred)  \n",
    "precision = AV_Precision(Ytt, y_pred)  \n",
    "\n",
    "# Affichage\n",
    "print(\"SVM:\")\n",
    "print(\"Confusion Matrix:\")\n",
    "print(matrice_confusion)\n",
    "print(f\"Accuracy: {accuracy}\")\n",
    "print(f\"Recall: {recall}\")\n",
    "print(f\"Precision: {precision}\")\n",
    "\n",
    "print(\"- False Positive Rate of each class: \")\n",
    "false_positive_rate = AV_FPR(Ytt, y_pred)\n",
    "print(f\"False positive rate: {false_positive_rate:.4f}\")\n",
    "print(\"- True Negative Rate of each class: \")\n",
    "true_negative_rate = AV_TNR(Ytt, y_pred)\n",
    "print(f\"True negative rate: {true_negative_rate:.4f}\")"
   ]
  },
  {
   "cell_type": "code",
   "execution_count": 16,
   "metadata": {
    "colab": {
     "background_save": true
    },
    "id": "qC8bd0uCl0z_"
   },
   "outputs": [
    {
     "name": "stdout",
     "output_type": "stream",
     "text": [
      "2\n"
     ]
    },
    {
     "data": {
      "text/plain": [
       "<matplotlib.image.AxesImage at 0x1fa8001d6a0>"
      ]
     },
     "execution_count": 16,
     "metadata": {},
     "output_type": "execute_result"
    },
    {
     "data": {
      "image/png": "[encoded data removed]",
      "text/plain": [
       "<Figure size 640x480 with 1 Axes>"
      ]
     },
     "metadata": {},
     "output_type": "display_data"
    }
   ],
   "source": [
    "# tester une image\n",
    "c= 3\n",
    "print (y_pred[c])\n",
    "a = Xtt[c,:].reshape((20, 20))\n",
    "a=np.transpose(a)\n",
    "plt.title('label '+ str(Ytt[c]))\n",
    "plt.imshow(a,cmap='gray')"
   ]
  },
  {
   "cell_type": "markdown",
   "metadata": {
    "id": "kF8Vvak9l00A"
   },
   "source": [
    "# Méthode 2: Arbres de décision\n"
   ]
  },
  {
   "cell_type": "code",
   "execution_count": 17,
   "metadata": {
    "colab": {
     "background_save": true
    },
    "id": "SOGXAVhGl00B"
   },
   "outputs": [
    {
     "name": "stdout",
     "output_type": "stream",
     "text": [
      "Arbre de decision:\n",
      "Confusion Matrix:\n",
      "[[133   1   3   2   0   2   2   6   3   0]\n",
      " [  2 109   5   9   3   3   4   9   7   4]\n",
      " [  4  10  93   1  20   2   4   9   6   5]\n",
      " [  3   4   0 114   1   3   4   5   8   1]\n",
      " [  2   3  12   4  97   4   2   9   6   2]\n",
      " [  1   5   1   2   5 114   1   4   4   6]\n",
      " [  5   5   4   3   1   0 124   4   9   3]\n",
      " [  0   7   4   4   9   4   0  93   9   2]\n",
      " [  1   5   0  13   5   0  16   9 108   1]\n",
      " [  1   3   3   1   2   2   1   0   1 150]]\n",
      "Accuracy: 0.7566666666666667\n",
      "Recall: 0.7552004798431324\n",
      "Precision: 0.7556336173246022\n",
      "- False Positive Rate of each class: \n",
      "   The false positive rate of class 1= 0.0141\n",
      "   The false positive rate of class 2= 0.0320\n",
      "   The false positive rate of class 3= 0.0238\n",
      "   The false positive rate of class 4= 0.0287\n",
      "   The false positive rate of class 5= 0.0338\n",
      "   The false positive rate of class 6= 0.0147\n",
      "   The false positive rate of class 7= 0.0253\n",
      "   The false positive rate of class 8= 0.0402\n",
      "   The false positive rate of class 9= 0.0395\n",
      "   The false positive rate of class 0= 0.0157\n",
      "False positive rate: 0.0268\n",
      "- True Negative Rate of each class: \n",
      "   True negative rate of class 1= 0.9859\n",
      "   True negative rate of class 2= 0.9680\n",
      "   True negative rate of class 3= 0.9762\n",
      "   True negative rate of class 4= 0.9713\n",
      "   True negative rate of class 5= 0.9662\n",
      "   True negative rate of class 6= 0.9853\n",
      "   True negative rate of class 7= 0.9747\n",
      "   True negative rate of class 8= 0.9598\n",
      "   True negative rate of class 9= 0.9605\n",
      "   True negative rate of class 10= 0.9820\n",
      "True negative rate: 0.9730\n"
     ]
    }
   ],
   "source": [
    "# Créer le modèle\n",
    "model = DecisionTreeClassifier()\n",
    "# Entrainer le modèle\n",
    "model = model.fit(Xt, Yt)\n",
    "# Prediction\n",
    "y_pred = model.predict(Xtt)\n",
    "# calcul des metriques \n",
    "matrice_confusion = Matrice_confusion(Ytt, y_pred)  \n",
    "accuracy = Accuracy(Ytt, y_pred)  \n",
    "recall = AV_Recall(Ytt, y_pred)  \n",
    "precision = AV_Precision(Ytt, y_pred)  \n",
    "\n",
    "# Affichage\n",
    "print(\"Arbre de decision:\")\n",
    "print(\"Confusion Matrix:\")\n",
    "print(matrice_confusion)\n",
    "print(f\"Accuracy: {accuracy}\")\n",
    "print(f\"Recall: {recall}\")\n",
    "print(f\"Precision: {precision}\")\n",
    "\n",
    "print(\"- False Positive Rate of each class: \")\n",
    "false_positive_rate = AV_FPR(Ytt, y_pred)\n",
    "print(f\"False positive rate: {false_positive_rate:.4f}\")\n",
    "print(\"- True Negative Rate of each class: \")\n",
    "true_negative_rate = AV_TNR(Ytt, y_pred)\n",
    "print(f\"True negative rate: {true_negative_rate:.4f}\")"
   ]
  },
  {
   "cell_type": "code",
   "execution_count": 18,
   "metadata": {
    "colab": {
     "background_save": true
    },
    "id": "jcndAmvbl00B"
   },
   "outputs": [
    {
     "name": "stdout",
     "output_type": "stream",
     "text": [
      "2\n"
     ]
    },
    {
     "data": {
      "text/plain": [
       "<matplotlib.image.AxesImage at 0x1fa82677c50>"
      ]
     },
     "execution_count": 18,
     "metadata": {},
     "output_type": "execute_result"
    },
    {
     "data": {
      "image/png": "[encoded data removed]",
      "text/plain": [
       "<Figure size 640x480 with 1 Axes>"
      ]
     },
     "metadata": {},
     "output_type": "display_data"
    }
   ],
   "source": [
    "# tester une image\n",
    "c= 3\n",
    "print (y_pred[c])\n",
    "a = Xtt[c,:].reshape((20, 20))\n",
    "a=np.transpose(a)\n",
    "plt.title('label '+ str(Ytt[c]))\n",
    "plt.imshow(a,cmap='gray')"
   ]
  },
  {
   "cell_type": "markdown",
   "metadata": {
    "id": "4rZNPN91l00C"
   },
   "source": [
    "# Méthode 3: RN \n",
    "Réseaux de neurones Perceptron"
   ]
  },
  {
   "cell_type": "code",
   "execution_count": 19,
   "metadata": {
    "colab": {
     "background_save": true
    },
    "id": "ZqseGqptl00E"
   },
   "outputs": [
    {
     "name": "stdout",
     "output_type": "stream",
     "text": [
      "RN MLP:\n",
      "Confusion Matrix:\n",
      "[[341   2   0   2   2   1   0   3   0   0]\n",
      " [  6 310   8   5   1   3   7   9   1   4]\n",
      " [  4  11 306   1  15   1   5   8   6   1]\n",
      " [  1   4   1 303   2   6   1   3  15   2]\n",
      " [  2   4   9   7 302   4   3   7   8   5]\n",
      " [  2   1   0   0   5 327   0   1   1   6]\n",
      " [  8   6   3   6   0   1 307   1  16   2]\n",
      " [  5   8  12   6  12   4   0 290   8   5]\n",
      " [  4   2   6   8   1   0  12   1 310   7]\n",
      " [  0   0   3   1   4   3   1   0   0 342]]\n",
      "Accuracy: 0.8965714285714286\n",
      "Recall: 0.8967172987591789\n",
      "Precision: 0.8965598923269535\n",
      "- False Positive Rate of each class: \n",
      "   The false positive rate of class 1= 0.0102\n",
      "   The false positive rate of class 2= 0.0121\n",
      "   The false positive rate of class 3= 0.0134\n",
      "   The false positive rate of class 4= 0.0114\n",
      "   The false positive rate of class 5= 0.0133\n",
      "   The false positive rate of class 6= 0.0073\n",
      "   The false positive rate of class 7= 0.0092\n",
      "   The false positive rate of class 8= 0.0105\n",
      "   The false positive rate of class 9= 0.0175\n",
      "   The false positive rate of class 0= 0.0091\n",
      "False positive rate: 0.0114\n",
      "- True Negative Rate of each class: \n",
      "   True negative rate of class 1= 0.9898\n",
      "   True negative rate of class 2= 0.9879\n",
      "   True negative rate of class 3= 0.9866\n",
      "   True negative rate of class 4= 0.9886\n",
      "   True negative rate of class 5= 0.9867\n",
      "   True negative rate of class 6= 0.9927\n",
      "   True negative rate of class 7= 0.9908\n",
      "   True negative rate of class 8= 0.9895\n",
      "   True negative rate of class 9= 0.9825\n",
      "   True negative rate of class 10= 0.9898\n",
      "True negative rate: 0.9885\n"
     ]
    }
   ],
   "source": [
    "model = MLPClassifier(solver='sgd', alpha=1e-5, hidden_layer_sizes=(25),max_iter=100000)\n",
    "Xt, Xtt, Yt, Ytt = train_test_split(X, Y, random_state=0, test_size=0.7)\n",
    "model.fit(Xt, Yt)\n",
    "\n",
    "y_pred = model.predict(Xtt)\n",
    "# calcul des metriques \n",
    "matrice_confusion = Matrice_confusion(Ytt, y_pred)  \n",
    "accuracy = Accuracy(Ytt, y_pred)  \n",
    "recall = AV_Recall(Ytt, y_pred)  \n",
    "precision = AV_Precision(Ytt, y_pred)  \n",
    "\n",
    "# Affichage\n",
    "print(\"RN MLP:\")\n",
    "print(\"Confusion Matrix:\")\n",
    "print(matrice_confusion)\n",
    "print(f\"Accuracy: {accuracy}\")\n",
    "print(f\"Recall: {recall}\")\n",
    "print(f\"Precision: {precision}\")\n",
    "\n",
    "print(\"- False Positive Rate of each class: \")\n",
    "false_positive_rate = AV_FPR(Ytt, y_pred)\n",
    "print(f\"False positive rate: {false_positive_rate:.4f}\")\n",
    "print(\"- True Negative Rate of each class: \")\n",
    "true_negative_rate = AV_TNR(Ytt, y_pred)\n",
    "print(f\"True negative rate: {true_negative_rate:.4f}\")"
   ]
  },
  {
   "cell_type": "code",
   "execution_count": 20,
   "metadata": {
    "colab": {
     "background_save": true
    },
    "id": "4M7gZVVWl00F"
   },
   "outputs": [],
   "source": [
    "# Choisir un image de test \n",
    "c=0"
   ]
  },
  {
   "cell_type": "code",
   "execution_count": 21,
   "metadata": {
    "colab": {
     "background_save": true
    },
    "id": "Xy0Rda31l00F",
    "scrolled": true
   },
   "outputs": [
    {
     "data": {
      "text/plain": [
       "array([10])"
      ]
     },
     "execution_count": 21,
     "metadata": {},
     "output_type": "execute_result"
    }
   ],
   "source": [
    "model.predict([Xtt[c,:]])"
   ]
  },
  {
   "cell_type": "code",
   "execution_count": 29,
   "metadata": {
    "colab": {
     "background_save": true
    },
    "id": "QN122JmZl00G"
   },
   "outputs": [
    {
     "ename": "ValueError",
     "evalue": "X has 400 features, but MLPClassifier is expecting 4 features as input.",
     "output_type": "error",
     "traceback": [
      "\u001b[1;31m---------------------------------------------------------------------------\u001b[0m",
      "\u001b[1;31mValueError\u001b[0m                                Traceback (most recent call last)",
      "Cell \u001b[1;32mIn[29], line 2\u001b[0m\n\u001b[0;32m      1\u001b[0m \u001b[38;5;66;03m# pour ROC, il faudra les probabilités:\u001b[39;00m\n\u001b[1;32m----> 2\u001b[0m \u001b[43mmodel\u001b[49m\u001b[38;5;241;43m.\u001b[39;49m\u001b[43mpredict_proba\u001b[49m\u001b[43m(\u001b[49m\u001b[43m[\u001b[49m\u001b[43mXtt\u001b[49m\u001b[43m[\u001b[49m\u001b[43mc\u001b[49m\u001b[43m,\u001b[49m\u001b[43m:\u001b[49m\u001b[43m]\u001b[49m\u001b[43m]\u001b[49m\u001b[43m)\u001b[49m\n\u001b[0;32m      4\u001b[0m \u001b[38;5;28;01mfrom\u001b[39;00m \u001b[38;5;21;01msklearn\u001b[39;00m\u001b[38;5;21;01m.\u001b[39;00m\u001b[38;5;21;01mpreprocessing\u001b[39;00m \u001b[38;5;28;01mimport\u001b[39;00m label_binarize\n\u001b[0;32m      6\u001b[0m y_proba \u001b[38;5;241m=\u001b[39m model\u001b[38;5;241m.\u001b[39mpredict_proba(Xtt)\n",
      "File \u001b[1;32mc:\\Users\\Techno Matique\\AppData\\Local\\Programs\\Python\\Python312\\Lib\\site-packages\\sklearn\\neural_network\\_multilayer_perceptron.py:1264\u001b[0m, in \u001b[0;36mMLPClassifier.predict_proba\u001b[1;34m(self, X)\u001b[0m\n\u001b[0;32m   1250\u001b[0m \u001b[38;5;250m\u001b[39m\u001b[38;5;124;03m\"\"\"Probability estimates.\u001b[39;00m\n\u001b[0;32m   1251\u001b[0m \n\u001b[0;32m   1252\u001b[0m \u001b[38;5;124;03mParameters\u001b[39;00m\n\u001b[1;32m   (...)\u001b[0m\n\u001b[0;32m   1261\u001b[0m \u001b[38;5;124;03m    model, where classes are ordered as they are in `self.classes_`.\u001b[39;00m\n\u001b[0;32m   1262\u001b[0m \u001b[38;5;124;03m\"\"\"\u001b[39;00m\n\u001b[0;32m   1263\u001b[0m check_is_fitted(\u001b[38;5;28mself\u001b[39m)\n\u001b[1;32m-> 1264\u001b[0m y_pred \u001b[38;5;241m=\u001b[39m \u001b[38;5;28;43mself\u001b[39;49m\u001b[38;5;241;43m.\u001b[39;49m\u001b[43m_forward_pass_fast\u001b[49m\u001b[43m(\u001b[49m\u001b[43mX\u001b[49m\u001b[43m)\u001b[49m\n\u001b[0;32m   1266\u001b[0m \u001b[38;5;28;01mif\u001b[39;00m \u001b[38;5;28mself\u001b[39m\u001b[38;5;241m.\u001b[39mn_outputs_ \u001b[38;5;241m==\u001b[39m \u001b[38;5;241m1\u001b[39m:\n\u001b[0;32m   1267\u001b[0m     y_pred \u001b[38;5;241m=\u001b[39m y_pred\u001b[38;5;241m.\u001b[39mravel()\n",
      "File \u001b[1;32mc:\\Users\\Techno Matique\\AppData\\Local\\Programs\\Python\\Python312\\Lib\\site-packages\\sklearn\\neural_network\\_multilayer_perceptron.py:204\u001b[0m, in \u001b[0;36mBaseMultilayerPerceptron._forward_pass_fast\u001b[1;34m(self, X, check_input)\u001b[0m\n\u001b[0;32m    185\u001b[0m \u001b[38;5;250m\u001b[39m\u001b[38;5;124;03m\"\"\"Predict using the trained model\u001b[39;00m\n\u001b[0;32m    186\u001b[0m \n\u001b[0;32m    187\u001b[0m \u001b[38;5;124;03mThis is the same as _forward_pass but does not record the activations\u001b[39;00m\n\u001b[1;32m   (...)\u001b[0m\n\u001b[0;32m    201\u001b[0m \u001b[38;5;124;03m    The decision function of the samples for each class in the model.\u001b[39;00m\n\u001b[0;32m    202\u001b[0m \u001b[38;5;124;03m\"\"\"\u001b[39;00m\n\u001b[0;32m    203\u001b[0m \u001b[38;5;28;01mif\u001b[39;00m check_input:\n\u001b[1;32m--> 204\u001b[0m     X \u001b[38;5;241m=\u001b[39m \u001b[43mvalidate_data\u001b[49m\u001b[43m(\u001b[49m\u001b[38;5;28;43mself\u001b[39;49m\u001b[43m,\u001b[49m\u001b[43m \u001b[49m\u001b[43mX\u001b[49m\u001b[43m,\u001b[49m\u001b[43m \u001b[49m\u001b[43maccept_sparse\u001b[49m\u001b[38;5;241;43m=\u001b[39;49m\u001b[43m[\u001b[49m\u001b[38;5;124;43m\"\u001b[39;49m\u001b[38;5;124;43mcsr\u001b[39;49m\u001b[38;5;124;43m\"\u001b[39;49m\u001b[43m,\u001b[49m\u001b[43m \u001b[49m\u001b[38;5;124;43m\"\u001b[39;49m\u001b[38;5;124;43mcsc\u001b[39;49m\u001b[38;5;124;43m\"\u001b[39;49m\u001b[43m]\u001b[49m\u001b[43m,\u001b[49m\u001b[43m \u001b[49m\u001b[43mreset\u001b[49m\u001b[38;5;241;43m=\u001b[39;49m\u001b[38;5;28;43;01mFalse\u001b[39;49;00m\u001b[43m)\u001b[49m\n\u001b[0;32m    206\u001b[0m \u001b[38;5;66;03m# Initialize first layer\u001b[39;00m\n\u001b[0;32m    207\u001b[0m activation \u001b[38;5;241m=\u001b[39m X\n",
      "File \u001b[1;32mc:\\Users\\Techno Matique\\AppData\\Local\\Programs\\Python\\Python312\\Lib\\site-packages\\sklearn\\utils\\validation.py:2965\u001b[0m, in \u001b[0;36mvalidate_data\u001b[1;34m(_estimator, X, y, reset, validate_separately, skip_check_array, **check_params)\u001b[0m\n\u001b[0;32m   2962\u001b[0m     out \u001b[38;5;241m=\u001b[39m X, y\n\u001b[0;32m   2964\u001b[0m \u001b[38;5;28;01mif\u001b[39;00m \u001b[38;5;129;01mnot\u001b[39;00m no_val_X \u001b[38;5;129;01mand\u001b[39;00m check_params\u001b[38;5;241m.\u001b[39mget(\u001b[38;5;124m\"\u001b[39m\u001b[38;5;124mensure_2d\u001b[39m\u001b[38;5;124m\"\u001b[39m, \u001b[38;5;28;01mTrue\u001b[39;00m):\n\u001b[1;32m-> 2965\u001b[0m     \u001b[43m_check_n_features\u001b[49m\u001b[43m(\u001b[49m\u001b[43m_estimator\u001b[49m\u001b[43m,\u001b[49m\u001b[43m \u001b[49m\u001b[43mX\u001b[49m\u001b[43m,\u001b[49m\u001b[43m \u001b[49m\u001b[43mreset\u001b[49m\u001b[38;5;241;43m=\u001b[39;49m\u001b[43mreset\u001b[49m\u001b[43m)\u001b[49m\n\u001b[0;32m   2967\u001b[0m \u001b[38;5;28;01mreturn\u001b[39;00m out\n",
      "File \u001b[1;32mc:\\Users\\Techno Matique\\AppData\\Local\\Programs\\Python\\Python312\\Lib\\site-packages\\sklearn\\utils\\validation.py:2829\u001b[0m, in \u001b[0;36m_check_n_features\u001b[1;34m(estimator, X, reset)\u001b[0m\n\u001b[0;32m   2826\u001b[0m     \u001b[38;5;28;01mreturn\u001b[39;00m\n\u001b[0;32m   2828\u001b[0m \u001b[38;5;28;01mif\u001b[39;00m n_features \u001b[38;5;241m!=\u001b[39m estimator\u001b[38;5;241m.\u001b[39mn_features_in_:\n\u001b[1;32m-> 2829\u001b[0m     \u001b[38;5;28;01mraise\u001b[39;00m \u001b[38;5;167;01mValueError\u001b[39;00m(\n\u001b[0;32m   2830\u001b[0m         \u001b[38;5;124mf\u001b[39m\u001b[38;5;124m\"\u001b[39m\u001b[38;5;124mX has \u001b[39m\u001b[38;5;132;01m{\u001b[39;00mn_features\u001b[38;5;132;01m}\u001b[39;00m\u001b[38;5;124m features, but \u001b[39m\u001b[38;5;132;01m{\u001b[39;00mestimator\u001b[38;5;241m.\u001b[39m\u001b[38;5;18m__class__\u001b[39m\u001b[38;5;241m.\u001b[39m\u001b[38;5;18m__name__\u001b[39m\u001b[38;5;132;01m}\u001b[39;00m\u001b[38;5;124m \u001b[39m\u001b[38;5;124m\"\u001b[39m\n\u001b[0;32m   2831\u001b[0m         \u001b[38;5;124mf\u001b[39m\u001b[38;5;124m\"\u001b[39m\u001b[38;5;124mis expecting \u001b[39m\u001b[38;5;132;01m{\u001b[39;00mestimator\u001b[38;5;241m.\u001b[39mn_features_in_\u001b[38;5;132;01m}\u001b[39;00m\u001b[38;5;124m features as input.\u001b[39m\u001b[38;5;124m\"\u001b[39m\n\u001b[0;32m   2832\u001b[0m     )\n",
      "\u001b[1;31mValueError\u001b[0m: X has 400 features, but MLPClassifier is expecting 4 features as input."
     ]
    }
   ],
   "source": [
    "# pour ROC, il faudra les probabilités:\n",
    "model.predict_proba([Xtt[c,:]])\n",
    "\n",
    "from sklearn.preprocessing import label_binarize\n",
    "\n",
    "y_proba = model.predict_proba(Xtt)\n",
    "num_classes = len(np.unique(Y))\n",
    "Ytt_bin = label_binarize(Ytt, classes=np.unique(Y))\n",
    "\n",
    "for i in range(num_classes):\n",
    "    fpr, tpr, _ = roc_curve(Ytt_bin[:, i], y_proba[:, i])\n",
    "    roc_auc = auc(fpr, tpr)\n",
    "    plt.plot(fpr, tpr, label=f'Class {i} (AUC = {roc_auc:.2f})')\n",
    "\n",
    "plt.plot([0, 1], [0, 1], 'k--')\n",
    "plt.xlabel('False Positive Rate')\n",
    "plt.ylabel('True Positive Rate')\n",
    "plt.title('ROC Curve for Each Class')\n",
    "plt.legend()\n",
    "plt.show()"
   ]
  },
  {
   "cell_type": "markdown",
   "metadata": {
    "id": "5bnMb0U1l00H"
   },
   "source": [
    "Afficher l'image testée"
   ]
  },
  {
   "cell_type": "code",
   "execution_count": 23,
   "metadata": {
    "colab": {
     "background_save": true
    },
    "id": "wX7-5roHl00H"
   },
   "outputs": [
    {
     "data": {
      "text/plain": [
       "<matplotlib.image.AxesImage at 0x1fa8038e270>"
      ]
     },
     "execution_count": 23,
     "metadata": {},
     "output_type": "execute_result"
    },
    {
     "data": {
      "image/png": "[encoded data removed]",
      "text/plain": [
       "<Figure size 640x480 with 1 Axes>"
      ]
     },
     "metadata": {},
     "output_type": "display_data"
    }
   ],
   "source": [
    "a = Xtt[c,:].reshape((20, 20))\n",
    "a=np.transpose(a)\n",
    "plt.title('label '+ str(Ytt[c]))\n",
    "plt.imshow(a,cmap='gray')"
   ]
  },
  {
   "cell_type": "markdown",
   "metadata": {
    "id": "_txSaLVpl00L"
   },
   "source": [
    "# Appliquer les métriques implementées pour voir le résultat et comparer les avec celles des librairies de python"
   ]
  },
  {
   "cell_type": "code",
   "execution_count": 24,
   "metadata": {
    "colab": {
     "background_save": true
    },
    "id": "nkZxFuQKl00M"
   },
   "outputs": [
    {
     "name": "stdout",
     "output_type": "stream",
     "text": [
      "\n",
      "=== Comparaison des résultats ===\n",
      "Matrice de confusion (Ma version) :\n",
      "[[341   2   0   2   2   1   0   3   0   0]\n",
      " [  6 310   8   5   1   3   7   9   1   4]\n",
      " [  4  11 306   1  15   1   5   8   6   1]\n",
      " [  1   4   1 303   2   6   1   3  15   2]\n",
      " [  2   4   9   7 302   4   3   7   8   5]\n",
      " [  2   1   0   0   5 327   0   1   1   6]\n",
      " [  8   6   3   6   0   1 307   1  16   2]\n",
      " [  5   8  12   6  12   4   0 290   8   5]\n",
      " [  4   2   6   8   1   0  12   1 310   7]\n",
      " [  0   0   3   1   4   3   1   0   0 342]]\n",
      "Matrice de confusion (sklearn) :\n",
      "[[341   2   0   2   2   1   0   3   0   0]\n",
      " [  6 310   8   5   1   3   7   9   1   4]\n",
      " [  4  11 306   1  15   1   5   8   6   1]\n",
      " [  1   4   1 303   2   6   1   3  15   2]\n",
      " [  2   4   9   7 302   4   3   7   8   5]\n",
      " [  2   1   0   0   5 327   0   1   1   6]\n",
      " [  8   6   3   6   0   1 307   1  16   2]\n",
      " [  5   8  12   6  12   4   0 290   8   5]\n",
      " [  4   2   6   8   1   0  12   1 310   7]\n",
      " [  0   0   3   1   4   3   1   0   0 342]]\n",
      "Accuracy (Ma version) : 0.8966\n",
      "Accuracy (sklearn) : 0.8966\n",
      "Recall (Ma version) : 0.8967\n",
      "Recall (sklearn) : 0.8967\n",
      "Precision (Ma version) : 0.8966\n",
      "Precision (sklearn) : 0.8966\n"
     ]
    }
   ],
   "source": [
    "from sklearn.metrics import confusion_matrix, accuracy_score, recall_score, precision_score\n",
    "\n",
    "matrice_sklearn = confusion_matrix(Ytt, y_pred)\n",
    "accuracy_sklearn = accuracy_score(Ytt, y_pred)\n",
    "recall_sklearn = recall_score(Ytt, y_pred, average=\"macro\")  # \"macro\" : moyenne sur toutes les classes\n",
    "precision_sklearn = precision_score(Ytt, y_pred, average=\"macro\")\n",
    "\n",
    "# Affichage des résultats\n",
    "print(\"\\n=== Comparaison des résultats ===\")\n",
    "print(f\"Matrice de confusion (Ma version) :\\n{matrice_confusion}\")\n",
    "print(f\"Matrice de confusion (sklearn) :\\n{matrice_sklearn}\")\n",
    "\n",
    "print(f\"Accuracy (Ma version) : {accuracy:.4f}\")\n",
    "print(f\"Accuracy (sklearn) : {accuracy_sklearn:.4f}\")\n",
    "\n",
    "print(f\"Recall (Ma version) : {recall:.4f}\")\n",
    "print(f\"Recall (sklearn) : {recall_sklearn:.4f}\")\n",
    "\n",
    "print(f\"Precision (Ma version) : {precision:.4f}\")\n",
    "print(f\"Precision (sklearn) : {precision_sklearn:.4f}\")\n"
   ]
  },
  {
   "cell_type": "markdown",
   "metadata": {},
   "source": [
    "# Refaire le processus sur un autre dataset de votre choix (exemple: iris...)"
   ]
  },
  {
   "cell_type": "code",
   "execution_count": 25,
   "metadata": {},
   "outputs": [
    {
     "name": "stdout",
     "output_type": "stream",
     "text": [
      "Aperçu des caractéristiques:\n",
      "   sepal length (cm)  sepal width (cm)  petal length (cm)  petal width (cm)\n",
      "0                5.1               3.5                1.4               0.2\n",
      "1                4.9               3.0                1.4               0.2\n",
      "2                4.7               3.2                1.3               0.2\n",
      "3                4.6               3.1                1.5               0.2\n",
      "4                5.0               3.6                1.4               0.2\n",
      "\n",
      "Decision Tree:\n",
      "Matrice de confusion:\n",
      " [[10  0  0]\n",
      " [ 0  9  0]\n",
      " [ 0  0 11]]\n",
      "Rapport de classification:\n",
      " 1.0\n",
      "\n",
      "Neural Network:\n",
      "Matrice de confusion:\n",
      " [[10  0  0]\n",
      " [ 0  9  0]\n",
      " [ 0  0 11]]\n",
      "Rapport de classification:\n",
      " 1.0\n"
     ]
    },
    {
     "name": "stderr",
     "output_type": "stream",
     "text": [
      "c:\\Users\\Techno Matique\\AppData\\Local\\Programs\\Python\\Python312\\Lib\\site-packages\\sklearn\\neural_network\\_multilayer_perceptron.py:691: ConvergenceWarning: Stochastic Optimizer: Maximum iterations (1000) reached and the optimization hasn't converged yet.\n",
      "  warnings.warn(\n"
     ]
    }
   ],
   "source": [
    "from sklearn import datasets\n",
    "\n",
    "# 1. Chargement du dataset Iris\n",
    "data = datasets.load_iris()\n",
    "X = data.data\n",
    "y = data.target\n",
    "\n",
    "# 2. Exploration des données\n",
    "print(\"Aperçu des caractéristiques:\")\n",
    "print(pd.DataFrame(X, columns=data.feature_names).head())\n",
    "\n",
    "# 3. Prétraitement des données\n",
    "scaler = StandardScaler()\n",
    "X_scaled = scaler.fit_transform(X)\n",
    "\n",
    "# 4. Séparation en train/test\n",
    "X_train, X_test, y_train, y_test = train_test_split(X_scaled, y, test_size=0.2, random_state=42)\n",
    "\n",
    "# 5. Entraînement des modèles\n",
    "models = {\n",
    "    \"Decision Tree\": DecisionTreeClassifier(),\n",
    "    \"Neural Network\": MLPClassifier(hidden_layer_sizes=(10,), max_iter=1000)\n",
    "}\n",
    "\n",
    "results = {}\n",
    "\n",
    "for name, model in models.items():\n",
    "    model.fit(X_train, y_train)\n",
    "    y_pred = model.predict(X_test)\n",
    "    results[name] = {\n",
    "        \"Confusion Matrix\": Matrice_confusion(y_test, y_pred),\n",
    "        \"Classification Report\": AV_Recall(y_test, y_pred)\n",
    "    }\n",
    "\n",
    "# 6. Affichage des résultats\n",
    "for name, result in results.items():\n",
    "    print(f\"\\n{name}:\")\n",
    "    print(\"Matrice de confusion:\\n\", result[\"Confusion Matrix\"])\n",
    "    print(\"Rapport de classification:\\n\", result[\"Classification Report\"])\n"
   ]
  }
 ],
 "metadata": {
  "colab": {
   "collapsed_sections": [],
   "name": "TP 1 Mesures de performance.ipynb",
   "provenance": []
  },
  "kernelspec": {
   "display_name": "Python 3",
   "language": "python",
   "name": "python3"
  },
  "language_info": {
   "codemirror_mode": {
    "name": "ipython",
    "version": 3
   },
   "file_extension": ".py",
   "mimetype": "text/x-python",
   "name": "python",
   "nbconvert_exporter": "python",
   "pygments_lexer": "ipython3",
   "version": "3.12.2"
  }
 },
 "nbformat": 4,
 "nbformat_minor": 0
}
