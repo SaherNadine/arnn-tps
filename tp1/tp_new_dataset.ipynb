{
 "cells": [
  {
   "attachments": {},
   "cell_type": "markdown",
   "metadata": {
    "id": "23HhZ0TZl0zP"
   },
   "source": [
    "# TP 1 Mesures de performance\n",
    "Dans ce TP, nous aimerions avoir un premier aperçu sur les algorithmes d'apprentissage automatique. Plus précisément, nous aimerions évaluer leurs performances en utilisant les métriques suivantes:\n",
    "- Matrice de confusion\n",
    "- Rappel\n",
    "- Précision\n",
    "- Taux de FP\n",
    "- Spécificité\n",
    "- Courbe ROC\n",
    "\n",
    "Les mesures devront être calculées sur la tâche de classification des nombres manuscrits.\n",
    "\n",
    "Le travail consiste à implementer ces métriques et à les comparer avec les métriques des librairies disponibles.\n",
    "\n",
    "Les algorithmes : K plus Proches Voisins devront être implementés."
   ]
  },
  {
   "cell_type": "markdown",
   "metadata": {
    "id": "RnUKQQfjl0ze"
   },
   "source": [
    "# Importation des librairies necessaires au travail"
   ]
  },
  {
   "cell_type": "code",
   "execution_count": 1,
   "metadata": {
    "executionInfo": {
     "elapsed": 1671,
     "status": "ok",
     "timestamp": 1646692651996,
     "user": {
      "displayName": "Mounir Dekali",
      "photoUrl": "https://lh3.googleusercontent.com/a-/AOh14Gg8ysiB3LFZobpTpBaxvF4VcyOV4pcw95wF6Mdyhw=s64",
      "userId": "18151484264085085052"
     },
     "user_tz": -60
    },
    "id": "YDZVV6GVl0zg"
   },
   "outputs": [],
   "source": [
    "import numpy as np\n",
    "import pandas as pd\n",
    "import matplotlib.pyplot as plt\n",
    "from numpy import random\n",
    "from sklearn.neural_network import MLPClassifier\n",
    "from sklearn.model_selection import train_test_split\n",
    "from sklearn import svm\n",
    "from sklearn.tree import DecisionTreeClassifier\n",
    "from sklearn.neighbors import KNeighborsClassifier\n",
    "from sklearn.metrics import classification_report, confusion_matrix, roc_auc_score, roc_curve, auc\n",
    "from sklearn.preprocessing import StandardScaler"
   ]
  },
  {
   "cell_type": "markdown",
   "metadata": {
    "id": "_nT_H3aPl0zm"
   },
   "source": [
    "# Lecture des fichiers de données à classifier\n",
    "Pour ce TP, nous allons lire les données à partir d'un fichier csv."
   ]
  },
  {
   "cell_type": "code",
   "execution_count": 2,
   "metadata": {
    "colab": {
     "base_uri": "https://localhost:8080/",
     "height": 363
    },
    "executionInfo": {
     "elapsed": 7,
     "status": "error",
     "timestamp": 1646692659670,
     "user": {
      "displayName": "Mounir Dekali",
      "photoUrl": "https://lh3.googleusercontent.com/a-/AOh14Gg8ysiB3LFZobpTpBaxvF4VcyOV4pcw95wF6Mdyhw=s64",
      "userId": "18151484264085085052"
     },
     "user_tz": -60
    },
    "id": "91b0p4qbl0zn",
    "outputId": "6122521a-5308-498d-e11e-17f66e01b07d"
   },
   "outputs": [
    {
     "name": "stdout",
     "output_type": "stream",
     "text": [
      "(5000, 400)\n"
     ]
    }
   ],
   "source": [
    "# données\n",
    "X = np.genfromtxt('data.csv', delimiter=',', dtype=int)\n",
    "print(X.shape)\n",
    "df = pd.read_csv(\"data.csv\",nrows=5000)"
   ]
  },
  {
   "cell_type": "code",
   "execution_count": 3,
   "metadata": {
    "colab": {
     "base_uri": "https://localhost:8080/"
    },
    "executionInfo": {
     "elapsed": 263,
     "status": "ok",
     "timestamp": 1646666818665,
     "user": {
      "displayName": "Mounir Dekali",
      "photoUrl": "https://lh3.googleusercontent.com/a-/AOh14Gg8ysiB3LFZobpTpBaxvF4VcyOV4pcw95wF6Mdyhw=s64",
      "userId": "18151484264085085052"
     },
     "user_tz": -60
    },
    "id": "j6KdcfC8l0zq",
    "outputId": "61a2ca31-b8d4-447d-e6f2-25d0ce9f8175"
   },
   "outputs": [
    {
     "data": {
      "text/plain": [
       "(5000,)"
      ]
     },
     "execution_count": 3,
     "metadata": {},
     "output_type": "execute_result"
    }
   ],
   "source": [
    "# étiquettes\n",
    "Y = np.genfromtxt('labels.csv', delimiter=',', dtype=int)\n",
    "Y.shape"
   ]
  },
  {
   "cell_type": "markdown",
   "metadata": {
    "id": "TY2OixHCl0zs"
   },
   "source": [
    "Afficher aléatoirement quelques données de notre base"
   ]
  },
  {
   "cell_type": "code",
   "execution_count": 4,
   "metadata": {
    "colab": {
     "base_uri": "https://localhost:8080/",
     "height": 118
    },
    "executionInfo": {
     "elapsed": 2304,
     "status": "ok",
     "timestamp": 1646666823844,
     "user": {
      "displayName": "Mounir Dekali",
      "photoUrl": "https://lh3.googleusercontent.com/a-/AOh14Gg8ysiB3LFZobpTpBaxvF4VcyOV4pcw95wF6Mdyhw=s64",
      "userId": "18151484264085085052"
     },
     "user_tz": -60
    },
    "id": "QMTnUdBql0zu",
    "outputId": "5b2dda71-20a2-4ab8-e707-a2e19c0f2fc8"
   },
   "outputs": [
    {
     "data": {
      "image/png": "[encoded data removed]",
      "text/plain": [
       "<Figure size 1500x800 with 13 Axes>"
      ]
     },
     "metadata": {},
     "output_type": "display_data"
    }
   ],
   "source": [
    "plt.figure(figsize=(15,8))\n",
    "for i in range(13): #note: each 500 lines, there is a new value\n",
    "    c = random.randint(X.shape[0]) #pick a random line from the dataset \n",
    "    a = X[c,:].reshape((20, 20)) #shape of one number in the image \n",
    "    a=np.transpose(a) # la transposé (rendre les ligne des colonne et vice versa)\n",
    "    plt.subplot(1,13,i+1)\n",
    "    plt.title('label '+ str(Y[c]))\n",
    "    plt.imshow(a,cmap='gray')"
   ]
  },
  {
   "cell_type": "markdown",
   "metadata": {
    "id": "UM03Af2dl0zv"
   },
   "source": [
    "Notons que l'étiquette 10 concerne le chiffre 0. L'étiquette a été utilisée ainsi afin de faciliter les calculs conséquents."
   ]
  },
  {
   "cell_type": "markdown",
   "metadata": {
    "id": "s80Yb_gul0zx"
   },
   "source": [
    "# Implémentation des métriques demandées\n",
    "Ici il faut écrire les fonctions, puis les appeler dans la suite du code"
   ]
  },
  {
   "attachments": {},
   "cell_type": "markdown",
   "metadata": {},
   "source": [
    "- Matrice de confusion :"
   ]
  },
  {
   "cell_type": "code",
   "execution_count": 5,
   "metadata": {},
   "outputs": [],
   "source": [
    "def Matrice_confusion(y_true, y_pred, label=None): #y_true :liste des classes vraies, y_pred :liste des classes prédites, label: liste des noms des classes\n",
    "    if label is None: #pas de label en entree \n",
    "        label = sorted(set(y_true) | set(y_pred)) # utilisation d'un ensemble pour éviter les doublons\n",
    "    \n",
    "    n_label=len(label)\n",
    "    matrice=np.full((n_label, n_label), fill_value=0, dtype=int) #creer la matrice remplie de zero \n",
    "    # Dictionnaire pour associer chaque classe à un indice\n",
    "    label_to_index = {classe: i for i, classe in enumerate(label)}\n",
    "    for vrai, predit in zip(y_true, y_pred):\n",
    "        matrice[label_to_index[vrai], label_to_index[predit]] += 1  # Incrémentation \n",
    "    \n",
    "    return matrice\n"
   ]
  },
  {
   "attachments": {},
   "cell_type": "markdown",
   "metadata": {},
   "source": [
    "- Accuracy = (TP + TN)/(TP + TN + FP + FN)"
   ]
  },
  {
   "cell_type": "code",
   "execution_count": 6,
   "metadata": {},
   "outputs": [],
   "source": [
    "def Accuracy(y_true, y_pred): \n",
    "    y_true = np.array(y_true)  # Conversion en tableau NumPy\n",
    "    y_pred = np.array(y_pred)\n",
    "    correct = np.sum(y_true == y_pred)  # si y_true et y_pred sont de meme classe donc on incremente de 1 sinon on aura 0\n",
    "    total = len(y_true)  # Nombre total d'exemples\n",
    "    return correct / total"
   ]
  },
  {
   "attachments": {},
   "cell_type": "markdown",
   "metadata": {
    "id": "-mRS4onu-52j"
   },
   "source": [
    "- Recall (True Positive Rate) = TP/(TP + FN)"
   ]
  },
  {
   "cell_type": "code",
   "execution_count": 7,
   "metadata": {
    "colab": {
     "background_save": true
    },
    "id": "ReRWcXEYgeQe"
   },
   "outputs": [],
   "source": [
    "def Recall(y_true, y_pred, label):\n",
    "    y_true = np.array(y_true)  # Conversion en tableau NumPy\n",
    "    y_pred = np.array(y_pred)\n",
    "    TP = np.sum((y_true == label) & (y_pred == label)) \n",
    "    # TP = nombre d'éléments qui appartiennent à la classe (y_true == label)\n",
    "    # et qui ont été bien classés par le modèle (y_pred == label)\n",
    "    FN = np.sum((y_true == label) & (y_pred != label)) \n",
    "    # FN = nombre d'éléments qui appartiennent à la classe (y_true == label) \n",
    "    #et ont été mal prédits (y_pred != label)\n",
    "    if TP == 0 and FN == 0:\n",
    "        recall = 0 # pour eviter la division par zéro\n",
    "    else:\n",
    "        recall = TP / (TP + FN)\n",
    "        print (f'   Recall of class {label}= {recall:.4f}' )\n",
    "    return recall\n",
    "\n",
    "def AV_Recall(y_true,y_pred):\n",
    "    labels = np.unique(y_true)  # prend uniquement les classes présentes\n",
    "    total=sum(Recall(y_true, y_pred, label) for label in labels) #somme des recalls de toutes les classes \n",
    "    AV_recall=total/len(labels)\n",
    "    return AV_recall"
   ]
  },
  {
   "attachments": {},
   "cell_type": "markdown",
   "metadata": {
    "id": "iy1P5tes-jM8"
   },
   "source": [
    "- Précision = TP/(TP + FP)"
   ]
  },
  {
   "cell_type": "code",
   "execution_count": 8,
   "metadata": {
    "colab": {
     "background_save": true
    },
    "id": "bnHz28P0Z36s"
   },
   "outputs": [],
   "source": [
    "def Precision(y_true, y_pred, label):\n",
    "    y_true = np.array(y_true)  \n",
    "    y_pred = np.array(y_pred)\n",
    "    TP = np.sum((y_true == label) & (y_pred == label)) \n",
    "    FP = np.sum((y_true != label) & (y_pred == label)) \n",
    "    if TP + FP == 0:\n",
    "        precision=0  # pour eviter la division par zéro\n",
    "    else: precision = TP / (TP + FP)\n",
    "    print (f'   precision of class {label}= {precision:.4f}' )\n",
    "    return precision\n",
    "\n",
    "def AV_Precision(y_true,y_pred):\n",
    "    labels = np.unique(y_true)  # prend uniquement les classes présentes\n",
    "    total=sum(Precision(y_true, y_pred, label) for label in labels) #somme des precisions de toutes les classes \n",
    "    AV_precision=total/len(labels)\n",
    "    return AV_precision"
   ]
  },
  {
   "attachments": {},
   "cell_type": "markdown",
   "metadata": {
    "id": "2SUXNHkz-qd5"
   },
   "source": [
    "- Taux de FP (False Positive Rate) = FP / (FP + TN)"
   ]
  },
  {
   "cell_type": "code",
   "execution_count": 9,
   "metadata": {
    "colab": {
     "background_save": true
    },
    "id": "r_o0qyv2l0z3"
   },
   "outputs": [],
   "source": [
    "def FPR(y_true, y_pred,label):\n",
    "    y_true = np.array(y_true)  \n",
    "    y_pred = np.array(y_pred)\n",
    "    FP = np.sum((y_true != label) & (y_pred == label)) \n",
    "    #TN = somme de tous les éléments sauf ceux de la ligne et de la colonne de la classe \n",
    "    if (label == 10): \n",
    "        label =0\n",
    "    TN = np.sum((y_true != label) & (y_pred != label))\n",
    "    if(TN+FP==0):\n",
    "        print (f'   The false positive rate of class {label}= 0' )\n",
    "        return 0\n",
    "    else: \n",
    "        print (f'   The false positive rate of class {label}= {FP / (FP+TN):.4f}' ) \n",
    "        return FP / (FP+TN)\n",
    "    \n",
    "def AV_FPR(y_true,y_pred):\n",
    "    labels = np.unique(y_true)  # prend uniquement les classes présentes\n",
    "    total=sum(FPR(y_true, y_pred, label) for label in labels) #somme des false positive rate de toutes les classes   \n",
    "    return total/len(labels)\n"
   ]
  },
  {
   "attachments": {},
   "cell_type": "markdown",
   "metadata": {
    "id": "7gx9qcAK-wnc"
   },
   "source": [
    "- Spécificité (True Negative Rate) = TN / (TN + FP)"
   ]
  },
  {
   "cell_type": "code",
   "execution_count": 10,
   "metadata": {
    "colab": {
     "background_save": true
    },
    "id": "DEXYGvurl0z5"
   },
   "outputs": [],
   "source": [
    "def TNR(y_true, y_pred,label):\n",
    "    y_true = np.array(y_true)  \n",
    "    y_pred = np.array(y_pred)\n",
    "    FP = np.sum((y_true != label) & (y_pred == label)) \n",
    "    #TN = somme de tous les éléments sauf ceux de la ligne et de la colonne de la classe \n",
    "    TN = np.sum((y_true != label) & (y_pred != label))\n",
    "    if(TN+FP==0):\n",
    "        print (f'  True negative rate of class {label}= 0' )\n",
    "        return 0\n",
    "    else: \n",
    "        print (f'   True negative rate of class {label}= {TN / (FP+TN):.4f}' )\n",
    "        return TN / (FP+TN)\n",
    "    \n",
    "def AV_TNR(y_true,y_pred):\n",
    "    labels = np.unique(y_true)  # prend uniquement les classes présentes\n",
    "    total=sum(TNR(y_true, y_pred, label) for label in labels) #somme des false positive rate de toutes les classes  \n",
    "    return total/len(labels)"
   ]
  },
  {
   "cell_type": "markdown",
   "metadata": {
    "id": "ENA_XiFMl0z5"
   },
   "source": [
    "- Courbe ROC"
   ]
  },
  {
   "cell_type": "code",
   "execution_count": 11,
   "metadata": {
    "colab": {
     "background_save": true
    },
    "id": "YFmaIDffl0z6"
   },
   "outputs": [],
   "source": [
    "import numpy as np\n",
    "import matplotlib.pyplot as plt\n",
    "\n",
    "def TPR(y_true, y_pred_binary, pos_label):\n",
    "    tp = np.sum((y_true == pos_label) & (y_pred_binary == 1))\n",
    "    actual_pos = np.sum(y_true == pos_label)\n",
    "    return tp / actual_pos if actual_pos != 0 else 0.0\n",
    "\n",
    "def compute_roc(y_true, y_scores, pos_label):\n",
    "    thresholds = np.unique(y_scores)[::-1]  # Descending order\n",
    "    tpr, fpr = [], []\n",
    "    \n",
    "    for threshold in thresholds:\n",
    "        y_pred_binary = (y_scores >= threshold).astype(int)\n",
    "        TPR_val = TPR(y_true, y_pred_binary, pos_label)\n",
    "        fpr_val = FPR(y_true, y_pred_binary, pos_label)\n",
    "        tpr.append(TPR_val)\n",
    "        fpr.append(fpr_val)\n",
    "    \n",
    "    print(tpr)\n",
    "    print(fpr)\n",
    "\n",
    "    # Sort FPR-TPR pairs for AUC calculation\n",
    "    sorted_indices = np.argsort(fpr)\n",
    "    sorted_fpr = np.array(fpr)[sorted_indices]\n",
    "    sorted_tpr = np.array(tpr)[sorted_indices]\n",
    "\n",
    "\n",
    "    return fpr, tpr , thresholds\n",
    "\n",
    "def plot_roc_curve(y_test, y_prob):\n",
    "    plt.figure(figsize=(8, 6))\n",
    "    colors = plt.get_cmap('tab10', 10).colors  # Get 10 distinct colors\n",
    "    classes = np.unique(y_test)\n",
    "    roc_curve = {}\n",
    "\n",
    "\n",
    "    for i in classes:  \n",
    "        fpr,tpr,_ = compute_roc(y_test, y_prob[:, i-1], i)\n",
    "        plt.plot(fpr, tpr, label=f'Class {i} ')\n",
    "\n",
    "    plt.plot([0, 1], [0, 1], 'k--')\n",
    "    plt.xlabel('False Positive Rate')\n",
    "    plt.ylabel('True Positive Rate')\n",
    "    plt.title('ROC Curve for Each Class')\n",
    "    plt.legend()\n",
    "    plt.show()"
   ]
  },
  {
   "cell_type": "markdown",
   "metadata": {
    "id": "IHfn7fgbl0z6"
   },
   "source": [
    "# Classification"
   ]
  },
  {
   "cell_type": "markdown",
   "metadata": {
    "id": "PGKbOn3el0z7"
   },
   "source": [
    "Définir d'abord la base d'entrainement Xt, Yt et la base de test Xtt, Ytt"
   ]
  },
  {
   "cell_type": "code",
   "execution_count": 12,
   "metadata": {
    "executionInfo": {
     "elapsed": 250,
     "status": "ok",
     "timestamp": 1646667242179,
     "user": {
      "displayName": "Mounir Dekali",
      "photoUrl": "https://lh3.googleusercontent.com/a-/AOh14Gg8ysiB3LFZobpTpBaxvF4VcyOV4pcw95wF6Mdyhw=s64",
      "userId": "18151484264085085052"
     },
     "user_tz": -60
    },
    "id": "mH2tdgEPl0z7"
   },
   "outputs": [],
   "source": [
    "scaler = StandardScaler()\n",
    "scaler.fit(X)\n",
    "scaled_features = scaler.transform(X)\n",
    "Xt, Xtt, Yt, Ytt = train_test_split(\n",
    "      scaled_features, Y, test_size = 0.30)"
   ]
  },
  {
   "cell_type": "markdown",
   "metadata": {
    "id": "ZEArHIKJl0z8"
   },
   "source": [
    "# Méthode 0: K- Plus Proches Voisins"
   ]
  },
  {
   "cell_type": "markdown",
   "metadata": {
    "id": "Uh7xVfJUl0z9"
   },
   "source": [
    "Ici il faudra implémenter la méthode, puis la tester et vérifier les métriques en variant le nombre K"
   ]
  },
  {
   "cell_type": "code",
   "execution_count": 31,
   "metadata": {
    "id": "1lKZnt7zl0z9"
   },
   "outputs": [],
   "source": [
    "#Partie implementation de KNN : Ait Moussa Ali \n",
    "#Definir une fonction qui permet de calculer la distance entre deux points\n",
    "def calculate_distance(point1,point2):\n",
    "    return np.linalg.norm(point1 - point2)\n",
    "\n",
    "#Definir une fonction qui permet de predire la classe d'un point (version avec numpy functions)\n",
    "def KNN(X_train, Y_train, X_test, k):\n",
    "    predictions = []\n",
    "    for c in X_test:\n",
    "        distances = np.array([calculate_distance(c, x) for x in X_train]) #calcul de la distance entre chaque point de x_test et tous les points de X_train\n",
    "        k_indices = np.argsort(distances)[:k] #recuperation des indices des k plus petites distances\n",
    "        k_nearest_labels = Y_train[k_indices] #recuperation des labels des k plus proches voisins\n",
    "        prediction = np.argmax(np.bincount(k_nearest_labels)) #recuperation de la classe ayant la plus grande occurence\n",
    "        predictions.append(prediction) #ajout de la prediction au tableau de prediction\n",
    "    \n",
    "    return predictions #retourner le tableau de prediction\n",
    "#Definir une fonction qui permet de predire la classe d'un point (version sans numpy functions)\n",
    "def KNN_2(X_train, Y_train, X_test, k):\n",
    "    prediction = np.array([]) #initialisation du tableau de prediction\n",
    "    occuerence = np.array([0]*(max(Y_train)+1)) #initialisation du tableau d'occurence\n",
    "    for c in X_test:\n",
    "        distance = np.array([])\n",
    "        for i in X_train:\n",
    "            distance = np.append(distance,calculate_distance(c,i)) #calcul de la distance entre le point c et tous les points de X_train\n",
    "        \n",
    "        distances = np.sort(distance) #tri des distances\n",
    "        distances = distances[:k] #selection des k plus petites distances\n",
    "        for i in distances:\n",
    "            index = np.where(distance == i) #recuperation de l'indice de la distance\n",
    "            occuerence[Y_train[index]] += 1 #incrementation de l'occurence de la classe correspondante\n",
    "        prediction = np.append(prediction,np.argmax(occuerence)) #recuperation de la classe ayant la plus grande occurence avec argmax\n",
    "        occuerence = np.array([0]*(max(Y_train)+1)) #reinitialisation du tableau d'occurence\n",
    "    return prediction #retourner le tableau de prediction"
   ]
  },
  {
   "cell_type": "code",
   "execution_count": 32,
   "metadata": {},
   "outputs": [
    {
     "name": "stdout",
     "output_type": "stream",
     "text": [
      "   Recall of class 1= 0.9868\n",
      "   Recall of class 2= 0.8000\n",
      "   Recall of class 3= 0.8831\n",
      "   Recall of class 4= 0.8462\n",
      "   Recall of class 5= 0.8298\n",
      "   Recall of class 6= 0.9091\n",
      "   Recall of class 7= 0.8228\n",
      "   Recall of class 8= 0.8106\n",
      "   Recall of class 9= 0.8228\n",
      "   Recall of class 10= 0.9634\n",
      "   precision of class 1= 0.8333\n",
      "   precision of class 2= 0.8794\n",
      "   precision of class 3= 0.8242\n",
      "   precision of class 4= 0.7806\n",
      "   precision of class 5= 0.8667\n",
      "   precision of class 6= 0.9489\n",
      "   precision of class 7= 0.9028\n",
      "   precision of class 8= 0.9224\n",
      "   precision of class 9= 0.8442\n",
      "   precision of class 10= 0.9133\n",
      "Comparaison des résultats\n",
      "Matrice de confusion (Ma version) :\n",
      "[[150   2   0   0   0   0   0   0   0   0]\n",
      " [  5 124   5   5   2   5   3   4   0   2]\n",
      " [  4   6 136   1   1   0   1   1   3   1]\n",
      " [  6   2   0 121   2   0   0   1  11   0]\n",
      " [  4   1  10   3 117   1   0   3   1   1]\n",
      " [  0   2   0   2   3 130   0   0   0   6]\n",
      " [  8   1   2   9   0   0 130   0   8   0]\n",
      " [  1   1   8   1   9   0   0 107   1   4]\n",
      " [  2   0   3  12   0   0  10   0 130   1]\n",
      " [  0   2   1   1   1   1   0   0   0 158]]\n",
      "Matrice de confusion (sklearn) :\n",
      "[[150   2   0   0   0   0   0   0   0   0]\n",
      " [  5 124   5   5   2   5   3   4   0   2]\n",
      " [  4   6 136   1   1   0   1   1   3   1]\n",
      " [  6   2   0 121   2   0   0   1  11   0]\n",
      " [  4   1  10   3 117   1   0   3   1   1]\n",
      " [  0   2   0   2   3 130   0   0   0   6]\n",
      " [  8   1   2   9   0   0 130   0   8   0]\n",
      " [  1   1   8   1   9   0   0 107   1   4]\n",
      " [  2   0   3  12   0   0  10   0 130   1]\n",
      " [  0   2   1   1   1   1   0   0   0 158]]\n",
      "Accuracy (Ma version) : 0.8687\n",
      "Accuracy (sklearn) : 0.8687\n",
      "Recall (Ma version) : 0.8675\n",
      "Recall (sklearn) : 0.8675\n",
      "Precision (Ma version) : 0.8716\n",
      "Precision (sklearn) : 0.8716\n"
     ]
    }
   ],
   "source": [
    "from sklearn.metrics import confusion_matrix, accuracy_score, recall_score, precision_score\n",
    "\n",
    "# Normalisation\n",
    "scaler = StandardScaler()\n",
    "X = scaler.fit_transform(X)\n",
    "\n",
    "# Division en train et test\n",
    "Xt, Xtt, Yt, Ytt = train_test_split(X, Y, test_size=0.3, random_state=42)\n",
    "\n",
    "# Appliquer KNN (ma version)\n",
    "k = 3\n",
    "y_pred_knn = KNN_2(Xt, Yt, Xtt, k)\n",
    "\n",
    "# Appliquer KNN (sklearn)\n",
    "sklearn_knn = KNeighborsClassifier(n_neighbors=k)\n",
    "sklearn_knn.fit(Xt, Yt)\n",
    "y_pred_sklearn = sklearn_knn.predict(Xtt)\n",
    "# Calcul des métriques (ma version)\n",
    "mat_conf = Matrice_confusion(Ytt, y_pred_knn)\n",
    "acc = Accuracy(Ytt, y_pred_knn)\n",
    "avg_rec = AV_Recall(Ytt, y_pred_knn)\n",
    "avg_prec = AV_Precision(Ytt, y_pred_knn)\n",
    "\n",
    "# Calcul des métriques (sklearn)\n",
    "mat_conf_sklearn = confusion_matrix(Ytt, y_pred_sklearn)\n",
    "acc_sklearn = accuracy_score(Ytt, y_pred_sklearn)\n",
    "recall_sklearn = recall_score(Ytt, y_pred_sklearn, average='macro')\n",
    "precision_sklearn = precision_score(Ytt, y_pred_sklearn, average='macro')\n",
    "\n",
    "# Affichage des résultats\n",
    "print(\"Comparaison des résultats\")\n",
    "print(f\"Matrice de confusion (Ma version) :\\n{mat_conf}\")\n",
    "print(f\"Matrice de confusion (sklearn) :\\n{mat_conf_sklearn}\")\n",
    "print(f\"Accuracy (Ma version) : {acc:.4f}\")\n",
    "print(f\"Accuracy (sklearn) : {acc_sklearn:.4f}\")\n",
    "print(f\"Recall (Ma version) : {avg_rec:.4f}\")\n",
    "print(f\"Recall (sklearn) : {recall_sklearn:.4f}\")\n",
    "print(f\"Precision (Ma version) : {avg_prec:.4f}\")\n",
    "print(f\"Precision (sklearn) : {precision_sklearn:.4f}\")"
   ]
  },
  {
   "cell_type": "markdown",
   "metadata": {
    "id": "v9wv0lPTl0z-",
    "scrolled": false
   },
   "source": [
    "# Méthode 1: MVS\n",
    "Machine à Vecteurs de Support"
   ]
  },
  {
   "cell_type": "code",
   "execution_count": 15,
   "metadata": {
    "colab": {
     "background_save": true
    },
    "id": "I87X5WBKl0z_"
   },
   "outputs": [
    {
     "name": "stdout",
     "output_type": "stream",
     "text": [
      "SVM:\n",
      "Confusion Matrix:\n",
      "[[148   1   0   0   1   0   0   0   2   0]\n",
      " [  2 136   4   3   2   1   0   7   0   0]\n",
      " [  2   5 134   1   5   1   1   3   2   0]\n",
      " [  0   3   0 129   0   0   1   1   9   0]\n",
      " [  3   0  12   3 123   0   0   0   0   0]\n",
      " [  0   0   0   0   1 139   0   0   0   3]\n",
      " [  3   2   0   3   1   1 142   1   5   0]\n",
      " [  2   5   2   0   5   1   0 116   1   0]\n",
      " [  0   0   1   7   2   1   6   0 140   1]\n",
      " [  0   1   0   0   0   0   0   1   0 162]]\n",
      "Accuracy: 0.9127\n",
      "- Recall of each class: \n",
      "   Recall of class 1= 0.9737\n",
      "   Recall of class 2= 0.8774\n",
      "   Recall of class 3= 0.8701\n",
      "   Recall of class 4= 0.9021\n",
      "   Recall of class 5= 0.8723\n",
      "   Recall of class 6= 0.9720\n",
      "   Recall of class 7= 0.8987\n",
      "   Recall of class 8= 0.8788\n",
      "   Recall of class 9= 0.8861\n",
      "   Recall of class 10= 0.9878\n",
      "Recall: 0.9119\n",
      "- Precision of each class: \n",
      "   precision of class 1= 0.9250\n",
      "   precision of class 2= 0.8889\n",
      "   precision of class 3= 0.8758\n",
      "   precision of class 4= 0.8836\n",
      "   precision of class 5= 0.8786\n",
      "   precision of class 6= 0.9653\n",
      "   precision of class 7= 0.9467\n",
      "   precision of class 8= 0.8992\n",
      "   precision of class 9= 0.8805\n",
      "   precision of class 10= 0.9759\n",
      "Precision: 0.9119\n",
      "- False Positive Rate of each class: \n",
      "   The false positive rate of class 1= 0.0089\n",
      "   The false positive rate of class 2= 0.0126\n",
      "   The false positive rate of class 3= 0.0141\n",
      "   The false positive rate of class 4= 0.0125\n",
      "   The false positive rate of class 5= 0.0125\n",
      "   The false positive rate of class 6= 0.0037\n",
      "   The false positive rate of class 7= 0.0060\n",
      "   The false positive rate of class 8= 0.0095\n",
      "   The false positive rate of class 9= 0.0142\n",
      "   The false positive rate of class 0= 0.0027\n",
      "False positive rate: 0.0097\n",
      "- True Negative Rate of each class: \n",
      "   True negative rate of class 1= 0.9911\n",
      "   True negative rate of class 2= 0.9874\n",
      "   True negative rate of class 3= 0.9859\n",
      "   True negative rate of class 4= 0.9875\n",
      "   True negative rate of class 5= 0.9875\n",
      "   True negative rate of class 6= 0.9963\n",
      "   True negative rate of class 7= 0.9940\n",
      "   True negative rate of class 8= 0.9905\n",
      "   True negative rate of class 9= 0.9858\n",
      "   True negative rate of class 10= 0.9970\n",
      "True negative rate: 0.9903\n"
     ]
    }
   ],
   "source": [
    "#Créer le modèle\n",
    "model= svm.SVC(kernel='linear') \n",
    "# entrainement \n",
    "model.fit(Xt, Yt)\n",
    "# Prediction\n",
    "y_pred = model.predict(Xtt)\n",
    "# calcul des metriques \n",
    "matrice_confusion = Matrice_confusion(Ytt, y_pred)  \n",
    "accuracy = Accuracy(Ytt, y_pred)  \n",
    "\n",
    "# Affichage\n",
    "print(\"SVM:\")\n",
    "print(\"Confusion Matrix:\")\n",
    "print(matrice_confusion)\n",
    "print(f\"Accuracy: {accuracy:.4f}\")\n",
    "print(\"- Recall of each class: \")\n",
    "recall = AV_Recall(Ytt, y_pred)\n",
    "print(f\"Recall: {recall:.4f}\")\n",
    "print(\"- Precision of each class: \")\n",
    "precision = AV_Precision(Ytt, y_pred)\n",
    "print(f\"Precision: {precision:.4f}\")\n",
    "print(\"- False Positive Rate of each class: \")\n",
    "false_positive_rate = AV_FPR(Ytt, y_pred)\n",
    "print(f\"False positive rate: {false_positive_rate:.4f}\")\n",
    "print(\"- True Negative Rate of each class: \")\n",
    "true_negative_rate = AV_TNR(Ytt, y_pred)\n",
    "print(f\"True negative rate: {true_negative_rate:.4f}\")"
   ]
  },
  {
   "cell_type": "code",
   "execution_count": 16,
   "metadata": {
    "colab": {
     "background_save": true
    },
    "id": "qC8bd0uCl0z_"
   },
   "outputs": [
    {
     "name": "stdout",
     "output_type": "stream",
     "text": [
      "2\n"
     ]
    },
    {
     "data": {
      "text/plain": [
       "<matplotlib.image.AxesImage at 0x20f5680e660>"
      ]
     },
     "execution_count": 16,
     "metadata": {},
     "output_type": "execute_result"
    },
    {
     "data": {
      "image/png": "[encoded data removed]",
      "text/plain": [
       "<Figure size 640x480 with 1 Axes>"
      ]
     },
     "metadata": {},
     "output_type": "display_data"
    }
   ],
   "source": [
    "# tester une image\n",
    "c= 3\n",
    "print (y_pred[c])\n",
    "a = Xtt[c,:].reshape((20, 20))\n",
    "a=np.transpose(a)\n",
    "plt.title('label '+ str(Ytt[c]))\n",
    "plt.imshow(a,cmap='gray')"
   ]
  },
  {
   "cell_type": "markdown",
   "metadata": {
    "id": "kF8Vvak9l00A"
   },
   "source": [
    "# Méthode 2: Arbres de décision\n"
   ]
  },
  {
   "cell_type": "code",
   "execution_count": 17,
   "metadata": {
    "colab": {
     "background_save": true
    },
    "id": "SOGXAVhGl00B"
   },
   "outputs": [
    {
     "name": "stdout",
     "output_type": "stream",
     "text": [
      "SVM:\n",
      "Confusion Matrix:\n",
      "[[133   2   4   2   0   0   5   5   1   0]\n",
      " [  3 101   5   9   5   4   6  16   3   3]\n",
      " [  4  10  96   1  19   5   4   5   8   2]\n",
      " [  3   3   0 109   3   1   7   5  11   1]\n",
      " [  2   3  15   2 100   2   3   5   4   5]\n",
      " [  0   2   3   2   6 116   0   6   3   5]\n",
      " [  3   4   5   3   0   0 128   4   9   2]\n",
      " [  0  14   4   4   9   4   1  92   2   2]\n",
      " [  1   4   4   8   3   0  17   9 111   1]\n",
      " [  1   2   4   1   1   2   1   0   0 152]]\n",
      "Accuracy: 0.7587\n",
      "- Recall of each class: \n",
      "   Recall of class 1= 0.8750\n",
      "   Recall of class 2= 0.6516\n",
      "   Recall of class 3= 0.6234\n",
      "   Recall of class 4= 0.7622\n",
      "   Recall of class 5= 0.7092\n",
      "   Recall of class 6= 0.8112\n",
      "   Recall of class 7= 0.8101\n",
      "   Recall of class 8= 0.6970\n",
      "   Recall of class 9= 0.7025\n",
      "   Recall of class 10= 0.9268\n",
      "Recall: 0.7569\n",
      "- Precision of each class: \n",
      "   precision of class 1= 0.8867\n",
      "   precision of class 2= 0.6966\n",
      "   precision of class 3= 0.6857\n",
      "   precision of class 4= 0.7730\n",
      "   precision of class 5= 0.6849\n",
      "   precision of class 6= 0.8657\n",
      "   precision of class 7= 0.7442\n",
      "   precision of class 8= 0.6259\n",
      "   precision of class 9= 0.7303\n",
      "   precision of class 10= 0.8786\n",
      "Precision: 0.7571\n",
      "- False Positive Rate of each class: \n",
      "   The false positive rate of class 1= 0.0126\n",
      "   The false positive rate of class 2= 0.0327\n",
      "   The false positive rate of class 3= 0.0327\n",
      "   The false positive rate of class 4= 0.0236\n",
      "   The false positive rate of class 5= 0.0338\n",
      "   The false positive rate of class 6= 0.0133\n",
      "   The false positive rate of class 7= 0.0328\n",
      "   The false positive rate of class 8= 0.0402\n",
      "   The false positive rate of class 9= 0.0306\n",
      "   The false positive rate of class 0= 0.0138\n",
      "False positive rate: 0.0266\n",
      "- True Negative Rate of each class: \n",
      "   True negative rate of class 1= 0.9874\n",
      "   True negative rate of class 2= 0.9673\n",
      "   True negative rate of class 3= 0.9673\n",
      "   True negative rate of class 4= 0.9764\n",
      "   True negative rate of class 5= 0.9662\n",
      "   True negative rate of class 6= 0.9867\n",
      "   True negative rate of class 7= 0.9672\n",
      "   True negative rate of class 8= 0.9598\n",
      "   True negative rate of class 9= 0.9694\n",
      "   True negative rate of class 10= 0.9843\n",
      "True negative rate: 0.9732\n"
     ]
    }
   ],
   "source": [
    "# Créer le modèle\n",
    "model = DecisionTreeClassifier()\n",
    "# Entrainer le modèle\n",
    "model = model.fit(Xt, Yt)\n",
    "# Prediction\n",
    "y_pred = model.predict(Xtt)\n",
    "# calcul des metriques \n",
    "matrice_confusion = Matrice_confusion(Ytt, y_pred)  \n",
    "accuracy = Accuracy(Ytt, y_pred)  \n",
    "\n",
    "# Affichage\n",
    "print(\"SVM:\")\n",
    "print(\"Confusion Matrix:\")\n",
    "print(matrice_confusion)\n",
    "print(f\"Accuracy: {accuracy:.4f}\")\n",
    "print(\"- Recall of each class: \")\n",
    "recall = AV_Recall(Ytt, y_pred)\n",
    "print(f\"Recall: {recall:.4f}\")\n",
    "print(\"- Precision of each class: \")\n",
    "precision = AV_Precision(Ytt, y_pred)\n",
    "print(f\"Precision: {precision:.4f}\")\n",
    "print(\"- False Positive Rate of each class: \")\n",
    "false_positive_rate = AV_FPR(Ytt, y_pred)\n",
    "print(f\"False positive rate: {false_positive_rate:.4f}\")\n",
    "print(\"- True Negative Rate of each class: \")\n",
    "true_negative_rate = AV_TNR(Ytt, y_pred)\n",
    "print(f\"True negative rate: {true_negative_rate:.4f}\")"
   ]
  },
  {
   "cell_type": "code",
   "execution_count": 18,
   "metadata": {
    "colab": {
     "background_save": true
    },
    "id": "jcndAmvbl00B"
   },
   "outputs": [
    {
     "name": "stdout",
     "output_type": "stream",
     "text": [
      "2\n"
     ]
    },
    {
     "data": {
      "text/plain": [
       "<matplotlib.image.AxesImage at 0x20f4ed9dd00>"
      ]
     },
     "execution_count": 18,
     "metadata": {},
     "output_type": "execute_result"
    },
    {
     "data": {
      "image/png": "[encoded data removed]",
      "text/plain": [
       "<Figure size 640x480 with 1 Axes>"
      ]
     },
     "metadata": {},
     "output_type": "display_data"
    }
   ],
   "source": [
    "# tester une image\n",
    "c= 3\n",
    "print (y_pred[c])\n",
    "a = Xtt[c,:].reshape((20, 20))\n",
    "a=np.transpose(a)\n",
    "plt.title('label '+ str(Ytt[c]))\n",
    "plt.imshow(a,cmap='gray')"
   ]
  },
  {
   "cell_type": "markdown",
   "metadata": {
    "id": "4rZNPN91l00C"
   },
   "source": [
    "# Méthode 3: RN \n",
    "Réseaux de neurones Perceptron"
   ]
  },
  {
   "cell_type": "code",
   "execution_count": 19,
   "metadata": {
    "colab": {
     "background_save": true
    },
    "id": "ZqseGqptl00E"
   },
   "outputs": [
    {
     "name": "stdout",
     "output_type": "stream",
     "text": [
      "SVM:\n",
      "Confusion Matrix:\n",
      "[[339   3   0   3   2   0   0   4   0   0]\n",
      " [  3 300   9   9   1   7   5  12   1   7]\n",
      " [  4  13 297   2  16   2   6   8   9   1]\n",
      " [  1   3   0 302   2   4   1   2  20   3]\n",
      " [  1   6  11  14 296   3   1  12   5   2]\n",
      " [  0   4   0   1   6 324   0   1   0   7]\n",
      " [  8   7   2  11   0   0 306   1  13   2]\n",
      " [  5   9   8   6  13   0   1 296   8   4]\n",
      " [  5   1   7  10   4   2  14   2 299   7]\n",
      " [  0   2   1   1   6   5   1   0   0 338]]\n",
      "Accuracy: 0.8849\n",
      "- Recall of each class: \n",
      "   Recall of class 1= 0.9658\n",
      "   Recall of class 2= 0.8475\n",
      "   Recall of class 3= 0.8296\n",
      "   Recall of class 4= 0.8935\n",
      "   Recall of class 5= 0.8433\n",
      "   Recall of class 6= 0.9446\n",
      "   Recall of class 7= 0.8743\n",
      "   Recall of class 8= 0.8457\n",
      "   Recall of class 9= 0.8519\n",
      "   Recall of class 10= 0.9548\n",
      "Recall: 0.8851\n",
      "- Precision of each class: \n",
      "   precision of class 1= 0.9262\n",
      "   precision of class 2= 0.8621\n",
      "   precision of class 3= 0.8866\n",
      "   precision of class 4= 0.8412\n",
      "   precision of class 5= 0.8555\n",
      "   precision of class 6= 0.9337\n",
      "   precision of class 7= 0.9134\n",
      "   precision of class 8= 0.8757\n",
      "   precision of class 9= 0.8423\n",
      "   precision of class 10= 0.9111\n",
      "Precision: 0.8848\n",
      "- False Positive Rate of each class: \n",
      "   The false positive rate of class 1= 0.0086\n",
      "   The false positive rate of class 2= 0.0153\n",
      "   The false positive rate of class 3= 0.0121\n",
      "   The false positive rate of class 4= 0.0180\n",
      "   The false positive rate of class 5= 0.0159\n",
      "   The false positive rate of class 6= 0.0073\n",
      "   The false positive rate of class 7= 0.0092\n",
      "   The false positive rate of class 8= 0.0133\n",
      "   The false positive rate of class 9= 0.0178\n",
      "   The false positive rate of class 0= 0.0093\n",
      "False positive rate: 0.0127\n",
      "- True Negative Rate of each class: \n",
      "   True negative rate of class 1= 0.9914\n",
      "   True negative rate of class 2= 0.9847\n",
      "   True negative rate of class 3= 0.9879\n",
      "   True negative rate of class 4= 0.9820\n",
      "   True negative rate of class 5= 0.9841\n",
      "   True negative rate of class 6= 0.9927\n",
      "   True negative rate of class 7= 0.9908\n",
      "   True negative rate of class 8= 0.9867\n",
      "   True negative rate of class 9= 0.9822\n",
      "   True negative rate of class 10= 0.9895\n",
      "True negative rate: 0.9872\n"
     ]
    }
   ],
   "source": [
    "model = MLPClassifier(solver='sgd', alpha=1e-5, hidden_layer_sizes=(25),max_iter=100000)\n",
    "Xt, Xtt, Yt, Ytt = train_test_split(X, Y, random_state=0, test_size=0.7)\n",
    "model.fit(Xt, Yt)\n",
    "\n",
    "y_pred = model.predict(Xtt)\n",
    "# calcul des metriques \n",
    "matrice_confusion = Matrice_confusion(Ytt, y_pred)  \n",
    "accuracy = Accuracy(Ytt, y_pred)  \n",
    "\n",
    "# Affichage\n",
    "print(\"SVM:\")\n",
    "print(\"Confusion Matrix:\")\n",
    "print(matrice_confusion)\n",
    "print(f\"Accuracy: {accuracy:.4f}\")\n",
    "print(\"- Recall of each class: \")\n",
    "recall = AV_Recall(Ytt, y_pred)\n",
    "print(f\"Recall: {recall:.4f}\")\n",
    "print(\"- Precision of each class: \")\n",
    "precision = AV_Precision(Ytt, y_pred)\n",
    "print(f\"Precision: {precision:.4f}\")\n",
    "print(\"- False Positive Rate of each class: \")\n",
    "false_positive_rate = AV_FPR(Ytt, y_pred)\n",
    "print(f\"False positive rate: {false_positive_rate:.4f}\")\n",
    "print(\"- True Negative Rate of each class: \")\n",
    "true_negative_rate = AV_TNR(Ytt, y_pred)\n",
    "print(f\"True negative rate: {true_negative_rate:.4f}\")"
   ]
  },
  {
   "cell_type": "code",
   "execution_count": 20,
   "metadata": {
    "colab": {
     "background_save": true
    },
    "id": "4M7gZVVWl00F"
   },
   "outputs": [],
   "source": [
    "# Choisir un image de test \n",
    "c=1"
   ]
  },
  {
   "cell_type": "code",
   "execution_count": 21,
   "metadata": {
    "colab": {
     "background_save": true
    },
    "id": "Xy0Rda31l00F",
    "scrolled": true
   },
   "outputs": [
    {
     "data": {
      "text/plain": [
       "array([7])"
      ]
     },
     "execution_count": 21,
     "metadata": {},
     "output_type": "execute_result"
    }
   ],
   "source": [
    "model.predict([Xtt[c,:]])"
   ]
  },
  {
   "cell_type": "code",
   "execution_count": 907,
   "metadata": {
    "colab": {
     "background_save": true
    },
    "id": "QN122JmZl00G"
   },
   "outputs": [
    {
     "data": {
      "image/png": "[encoded data removed]",
      "text/plain": [
       "<Figure size 640x480 with 1 Axes>"
      ]
     },
     "metadata": {},
     "output_type": "display_data"
    }
   ],
   "source": [
    "from sklearn.preprocessing import label_binarize\n",
    "\n",
    "y_proba = model.predict_proba(Xtt)\n",
    "num_classes = len(np.unique(Y))\n",
    "Ytt_bin = label_binarize(Ytt, classes=np.unique(Y))\n",
    "\n",
    "for i in range(num_classes):\n",
    "    fpr, tpr, _ = roc_curve(Ytt_bin[:, i], y_proba[:, i])\n",
    "    roc_auc = auc(fpr, tpr)\n",
    "    plt.plot(fpr, tpr, label=f'Class {i} (AUC = {roc_auc:.2f})')\n",
    "\n",
    "plt.plot([0, 1], [0, 1], 'k--')\n",
    "plt.xlabel('False Positive Rate')\n",
    "plt.ylabel('True Positive Rate')\n",
    "plt.title('ROC Curve for Each Class')\n",
    "plt.legend()\n",
    "plt.show()"
   ]
  },
  {
   "cell_type": "markdown",
   "metadata": {
    "id": "5bnMb0U1l00H"
   },
   "source": [
    "Afficher l'image testée"
   ]
  },
  {
   "cell_type": "code",
   "execution_count": 22,
   "metadata": {
    "colab": {
     "background_save": true
    },
    "id": "wX7-5roHl00H"
   },
   "outputs": [
    {
     "data": {
      "text/plain": [
       "<matplotlib.image.AxesImage at 0x20f4f393ec0>"
      ]
     },
     "execution_count": 22,
     "metadata": {},
     "output_type": "execute_result"
    },
    {
     "data": {
      "image/png": "[encoded data removed]",
      "text/plain": [
       "<Figure size 640x480 with 1 Axes>"
      ]
     },
     "metadata": {},
     "output_type": "display_data"
    }
   ],
   "source": [
    "a = Xtt[c,:].reshape((20, 20))\n",
    "a=np.transpose(a)\n",
    "plt.title('label '+ str(Ytt[c]))\n",
    "plt.imshow(a,cmap='gray')"
   ]
  },
  {
   "cell_type": "markdown",
   "metadata": {
    "id": "_txSaLVpl00L"
   },
   "source": [
    "# Appliquer les métriques implementées pour voir le résultat et comparer les avec celles des librairies de python"
   ]
  },
  {
   "cell_type": "code",
   "execution_count": 23,
   "metadata": {
    "colab": {
     "background_save": true
    },
    "id": "nkZxFuQKl00M"
   },
   "outputs": [
    {
     "name": "stdout",
     "output_type": "stream",
     "text": [
      "Comparaison des résultats\n",
      "Matrice de confusion (Ma version) :\n",
      "[[339   3   0   3   2   0   0   4   0   0]\n",
      " [  3 300   9   9   1   7   5  12   1   7]\n",
      " [  4  13 297   2  16   2   6   8   9   1]\n",
      " [  1   3   0 302   2   4   1   2  20   3]\n",
      " [  1   6  11  14 296   3   1  12   5   2]\n",
      " [  0   4   0   1   6 324   0   1   0   7]\n",
      " [  8   7   2  11   0   0 306   1  13   2]\n",
      " [  5   9   8   6  13   0   1 296   8   4]\n",
      " [  5   1   7  10   4   2  14   2 299   7]\n",
      " [  0   2   1   1   6   5   1   0   0 338]]\n",
      "Matrice de confusion (sklearn) :\n",
      "[[339   3   0   3   2   0   0   4   0   0]\n",
      " [  3 300   9   9   1   7   5  12   1   7]\n",
      " [  4  13 297   2  16   2   6   8   9   1]\n",
      " [  1   3   0 302   2   4   1   2  20   3]\n",
      " [  1   6  11  14 296   3   1  12   5   2]\n",
      " [  0   4   0   1   6 324   0   1   0   7]\n",
      " [  8   7   2  11   0   0 306   1  13   2]\n",
      " [  5   9   8   6  13   0   1 296   8   4]\n",
      " [  5   1   7  10   4   2  14   2 299   7]\n",
      " [  0   2   1   1   6   5   1   0   0 338]]\n",
      "Accuracy (Ma version) : 0.8849\n",
      "Accuracy (sklearn) : 0.8849\n",
      "Recall (Ma version) : 0.8851\n",
      "Recall (sklearn) : 0.8851\n",
      "Precision (Ma version) : 0.8848\n",
      "Precision (sklearn) : 0.8848\n"
     ]
    }
   ],
   "source": [
    "from sklearn.metrics import confusion_matrix, accuracy_score, recall_score, precision_score, roc_curve\n",
    "from sklearn.preprocessing import label_binarize\n",
    "\n",
    "\n",
    "matrice_sklearn = confusion_matrix(Ytt, y_pred)\n",
    "accuracy_sklearn = accuracy_score(Ytt, y_pred)\n",
    "recall_sklearn = recall_score(Ytt, y_pred, average=\"macro\")  # \"macro\" : moyenne sur toutes les classes\n",
    "precision_sklearn = precision_score(Ytt, y_pred, average=\"macro\")\n",
    "\n",
    "\n",
    "# Affichage des résultats\n",
    "print(\"Comparaison des résultats\")\n",
    "print(f\"Matrice de confusion (Ma version) :\\n{matrice_confusion}\")\n",
    "print(f\"Matrice de confusion (sklearn) :\\n{matrice_sklearn}\")\n",
    "\n",
    "print(f\"Accuracy (Ma version) : {accuracy:.4f}\")\n",
    "print(f\"Accuracy (sklearn) : {accuracy_sklearn:.4f}\")\n",
    "\n",
    "print(f\"Recall (Ma version) : {recall:.4f}\")\n",
    "print(f\"Recall (sklearn) : {recall_sklearn:.4f}\")\n",
    "\n",
    "print(f\"Precision (Ma version) : {precision:.4f}\")\n",
    "print(f\"Precision (sklearn) : {precision_sklearn:.4f}\")\n",
    "\n",
    "\n"
   ]
  },
  {
   "cell_type": "markdown",
   "metadata": {},
   "source": [
    "# Refaire le processus sur un autre dataset de votre choix (exemple: iris...)"
   ]
  },
  {
   "cell_type": "markdown",
   "metadata": {},
   "source": [
    "# Split data"
   ]
  },
  {
   "cell_type": "code",
   "execution_count": 24,
   "metadata": {},
   "outputs": [
    {
     "name": "stdout",
     "output_type": "stream",
     "text": [
      "Training set size: 105 samples\n",
      "Test set size: 45 samples\n"
     ]
    }
   ],
   "source": [
    "from sklearn.datasets import load_iris\n",
    "\n",
    "iris = load_iris()\n",
    "X_iris, y_iris = iris.data, iris.target\n",
    "Xt_iris, Xtt_iris, Yt_iris, Ytt_iris = train_test_split(X_iris, y_iris, test_size=0.3)\n",
    "\n",
    "# Print the sizes of the splits\n",
    "print(f\"Training set size: {Xt_iris.shape[0]} samples\")\n",
    "print(f\"Test set size: {Xtt_iris.shape[0]} samples\")\n"
   ]
  },
  {
   "cell_type": "markdown",
   "metadata": {},
   "source": [
    "# Normalize Data"
   ]
  },
  {
   "cell_type": "code",
   "execution_count": 25,
   "metadata": {},
   "outputs": [],
   "source": [
    "from sklearn.preprocessing import StandardScaler\n",
    "\n",
    "scaler_iris = StandardScaler()\n",
    "scaler_iris.fit(Xt_iris)\n",
    "Xt_iris_scaled = scaler_iris.transform(Xt_iris)\n",
    "Xtt_iris_scaled = scaler_iris.transform(Xtt_iris)"
   ]
  },
  {
   "cell_type": "markdown",
   "metadata": {},
   "source": [
    "# KNN"
   ]
  },
  {
   "cell_type": "code",
   "execution_count": 33,
   "metadata": {},
   "outputs": [
    {
     "name": "stdout",
     "output_type": "stream",
     "text": [
      "Matrice de confusion :\n",
      "[[16  0  0]\n",
      " [ 0 17  1]\n",
      " [ 0  0 11]]\n",
      "Accuracy : 0.9778\n",
      "Recall  : 0.8675\n",
      "Precision : 0.8716\n"
     ]
    }
   ],
   "source": [
    "k = 3\n",
    "y_pred = KNN(Xt_iris, Yt_iris, Xtt_iris, k)\n",
    "\n",
    "# Calcul des métriques (ma version)\n",
    "mat_conf = Matrice_confusion(Ytt_iris, y_pred)\n",
    "acc = Accuracy(Ytt_iris, y_pred)\n",
    "\n",
    "recall = recall_score(Ytt, y_pred_sklearn, average='macro')\n",
    "precision = precision_score(Ytt, y_pred_sklearn, average='macro')\n",
    "\n",
    "# Affichage des résultats\n",
    "print(f\"Matrice de confusion :\\n{mat_conf}\")\n",
    "print(f\"Accuracy : {acc:.4f}\")\n",
    "print(f\"Recall  : {recall:.4f}\")\n",
    "print(f\"Precision : {precision:.4f}\")"
   ]
  },
  {
   "cell_type": "markdown",
   "metadata": {},
   "source": [
    "# MSV\n"
   ]
  },
  {
   "cell_type": "code",
   "execution_count": 36,
   "metadata": {},
   "outputs": [
    {
     "name": "stdout",
     "output_type": "stream",
     "text": [
      "SVM:\n",
      "Confusion Matrix:\n",
      "[[16  0  0]\n",
      " [ 0 17  1]\n",
      " [ 0  0 11]]\n",
      "Accuracy: 0.9778\n",
      "- Recall of each class: \n",
      "   Recall of class 0= 1.0000\n",
      "   Recall of class 1= 0.9444\n",
      "   Recall of class 2= 1.0000\n",
      "Recall: 0.9814814814814815,4f\n",
      "- Precision of each class: \n",
      "   precision of class 0= 1.0000\n",
      "   precision of class 1= 1.0000\n",
      "   precision of class 2= 0.9167\n",
      "Precision: 0.9722\n",
      "- False Positive Rate of each class: \n",
      "   The false positive rate of class 0= 0.0000\n",
      "   The false positive rate of class 1= 0.0000\n",
      "   The false positive rate of class 2= 0.0294\n",
      "False positive rate: 0.0098\n",
      "- True Negative Rate of each class: \n",
      "   True negative rate of class 0= 1.0000\n",
      "   True negative rate of class 1= 1.0000\n",
      "   True negative rate of class 2= 0.9706\n",
      "True negative rate: 0.9902\n"
     ]
    }
   ],
   "source": [
    "#MVS\n",
    "#Créer le modèle\n",
    "model= svm.SVC(kernel='linear') \n",
    "# entrainement \n",
    "model.fit(Xt_iris, Yt_iris)\n",
    "# Prediction\n",
    "y_pred = model.predict(Xtt_iris)\n",
    "# calcul des metriques \n",
    "matrice_confusion = Matrice_confusion(Ytt_iris, y_pred)  \n",
    "\n",
    "accuracy = Accuracy(Ytt_iris, y_pred)  \n",
    "\n",
    "# Affichage\n",
    "print(\"SVM:\")\n",
    "print(\"Confusion Matrix:\")\n",
    "print(matrice_confusion)\n",
    "print(f\"Accuracy: {accuracy:.4f}\")\n",
    "print(\"- Recall of each class: \")\n",
    "recall = AV_Recall(Ytt_iris, y_pred)\n",
    "print(f\"Recall: {recall},4f\")\n",
    "print(\"- Precision of each class: \")\n",
    "precision = AV_Precision(Ytt_iris, y_pred)\n",
    "print(f\"Precision: {precision:.4f}\")\n",
    "print(\"- False Positive Rate of each class: \")\n",
    "false_positive_rate = AV_FPR(Ytt_iris, y_pred)\n",
    "print(f\"False positive rate: {false_positive_rate:.4f}\")\n",
    "print(\"- True Negative Rate of each class: \")\n",
    "true_negative_rate = AV_TNR(Ytt_iris, y_pred)\n",
    "print(f\"True negative rate: {true_negative_rate:.4f}\")"
   ]
  },
  {
   "cell_type": "markdown",
   "metadata": {},
   "source": [
    "# Decision Tree"
   ]
  },
  {
   "cell_type": "code",
   "execution_count": 27,
   "metadata": {},
   "outputs": [
    {
     "name": "stdout",
     "output_type": "stream",
     "text": [
      "SVM:\n",
      "Confusion Matrix:\n",
      "[[16  0  0]\n",
      " [ 0 12  2]\n",
      " [ 0  1 14]]\n",
      "Accuracy: 0.9333\n",
      "- Recall of each class: \n",
      "   Recall of class 0= 1.0000\n",
      "   Recall of class 1= 0.8571\n",
      "   Recall of class 2= 0.9333\n",
      "Recall: 0.9302\n",
      "- Precision of each class: \n",
      "   precision of class 0= 1.0000\n",
      "   precision of class 1= 0.9231\n",
      "   precision of class 2= 0.8750\n",
      "Precision: 0.9327\n",
      "- False Positive Rate of each class: \n",
      "   The false positive rate of class 0= 0.0000\n",
      "   The false positive rate of class 1= 0.0323\n",
      "   The false positive rate of class 2= 0.0667\n",
      "False positive rate: 0.0330\n",
      "- True Negative Rate of each class: \n",
      "   True negative rate of class 0= 1.0000\n",
      "   True negative rate of class 1= 0.9677\n",
      "   True negative rate of class 2= 0.9333\n",
      "True negative rate: 0.9670\n"
     ]
    }
   ],
   "source": [
    "# Créer le modèle\n",
    "model = DecisionTreeClassifier()\n",
    "# Entrainer le modèle\n",
    "model = model.fit(Xt_iris, Yt_iris)\n",
    "# Prediction\n",
    "y_pred = model.predict(Xtt_iris)\n",
    "# calcul des metriques \n",
    "matrice_confusion = Matrice_confusion(Ytt_iris, y_pred)  \n",
    "accuracy = Accuracy(Ytt_iris, y_pred)  \n",
    "\n",
    "# Affichage\n",
    "print(\"SVM:\")\n",
    "print(\"Confusion Matrix:\")\n",
    "print(matrice_confusion)\n",
    "print(f\"Accuracy: {accuracy:.4f}\")\n",
    "print(\"- Recall of each class: \")\n",
    "recall = AV_Recall(Ytt_iris, y_pred)\n",
    "print(f\"Recall: {recall:.4f}\")\n",
    "print(\"- Precision of each class: \")\n",
    "precision = AV_Precision(Ytt_iris, y_pred)\n",
    "print(f\"Precision: {precision:.4f}\")\n",
    "print(\"- False Positive Rate of each class: \")\n",
    "false_positive_rate = AV_FPR(Ytt_iris, y_pred)\n",
    "print(f\"False positive rate: {false_positive_rate:.4f}\")\n",
    "print(\"- True Negative Rate of each class: \")\n",
    "true_negative_rate = AV_TNR(Ytt_iris, y_pred)\n",
    "print(f\"True negative rate: {true_negative_rate:.4f}\")"
   ]
  },
  {
   "cell_type": "markdown",
   "metadata": {},
   "source": [
    "# RN"
   ]
  },
  {
   "cell_type": "code",
   "execution_count": 28,
   "metadata": {},
   "outputs": [
    {
     "name": "stdout",
     "output_type": "stream",
     "text": [
      "SVM:\n",
      "Confusion Matrix:\n",
      "[[16  0  0]\n",
      " [ 0 16  2]\n",
      " [ 0  0 11]]\n",
      "Accuracy: 0.9556\n",
      "- Recall of each class: \n",
      "   Recall of class 0= 1.0000\n",
      "   Recall of class 1= 0.8889\n",
      "   Recall of class 2= 1.0000\n",
      "Recall: 0.9630\n",
      "- Precision of each class: \n",
      "   precision of class 0= 1.0000\n",
      "   precision of class 1= 1.0000\n",
      "   precision of class 2= 0.8462\n",
      "Precision: 0.9487\n",
      "- False Positive Rate of each class: \n",
      "   The false positive rate of class 0= 0.0000\n",
      "   The false positive rate of class 1= 0.0000\n",
      "   The false positive rate of class 2= 0.0588\n",
      "False positive rate: 0.0196\n",
      "- True Negative Rate of each class: \n",
      "   True negative rate of class 0= 1.0000\n",
      "   True negative rate of class 1= 1.0000\n",
      "   True negative rate of class 2= 0.9412\n",
      "True negative rate: 0.9804\n"
     ]
    }
   ],
   "source": [
    "model = MLPClassifier(solver='sgd', alpha=1e-5, hidden_layer_sizes=(25),max_iter=100000)\n",
    "Xt_iris, Xtt_iris, Yt_iris, Ytt_iris = train_test_split(X_iris, y_iris,random_state=0 ,test_size=0.3)\n",
    "\n",
    "model.fit(Xt_iris, Yt_iris)\n",
    "\n",
    "y_pred = model.predict(Xtt_iris)\n",
    "# calcul des metriques \n",
    "matrice_confusion = Matrice_confusion(Ytt_iris, y_pred)  \n",
    "accuracy = Accuracy(Ytt_iris, y_pred)  \n",
    "\n",
    "# Affichage\n",
    "print(\"SVM:\")\n",
    "print(\"Confusion Matrix:\")\n",
    "print(matrice_confusion)\n",
    "print(f\"Accuracy: {accuracy:.4f}\")\n",
    "print(\"- Recall of each class: \")\n",
    "recall = AV_Recall(Ytt_iris, y_pred)\n",
    "print(f\"Recall: {recall:.4f}\")\n",
    "print(\"- Precision of each class: \")\n",
    "precision = AV_Precision(Ytt_iris, y_pred)\n",
    "print(f\"Precision: {precision:.4f}\")\n",
    "print(\"- False Positive Rate of each class: \")\n",
    "false_positive_rate = AV_FPR(Ytt_iris, y_pred)\n",
    "print(f\"False positive rate: {false_positive_rate:.4f}\")\n",
    "print(\"- True Negative Rate of each class: \")\n",
    "true_negative_rate = AV_TNR(Ytt_iris, y_pred)\n",
    "print(f\"True negative rate: {true_negative_rate:.4f}\")"
   ]
  },
  {
   "cell_type": "markdown",
   "metadata": {},
   "source": [
    "# ROC curve for RN model:"
   ]
  },
  {
   "cell_type": "code",
   "execution_count": 29,
   "metadata": {},
   "outputs": [
    {
     "data": {
      "image/png": "[encoded data removed]",
      "text/plain": [
       "<Figure size 640x480 with 1 Axes>"
      ]
     },
     "metadata": {},
     "output_type": "display_data"
    }
   ],
   "source": [
    "from sklearn.preprocessing import label_binarize\n",
    "\n",
    "y_proba = model.predict_proba(Xtt_iris)\n",
    "num_classes = len(np.unique(y_iris))\n",
    "Ytt_bin = label_binarize(Ytt_iris, classes=np.unique(y_iris))\n",
    "\n",
    "for i in range(num_classes):\n",
    "    fpr, tpr, _ = roc_curve(Ytt_bin[:, i], y_proba[:, i])\n",
    "    roc_auc = auc(fpr, tpr)\n",
    "    plt.plot(fpr, tpr, label=f'Class {i} (AUC = {roc_auc:.2f})')\n",
    "\n",
    "plt.plot([0, 1], [0, 1], 'k--')\n",
    "plt.xlabel('False Positive Rate')\n",
    "plt.ylabel('True Positive Rate')\n",
    "plt.title('ROC Curve for Each Class')\n",
    "plt.legend()\n",
    "plt.show()"
   ]
  }
 ],
 "metadata": {
  "colab": {
   "collapsed_sections": [],
   "name": "TP 1 Mesures de performance.ipynb",
   "provenance": []
  },
  "kernelspec": {
   "display_name": "Python 3",
   "language": "python",
   "name": "python3"
  },
  "language_info": {
   "codemirror_mode": {
    "name": "ipython",
    "version": 3
   },
   "file_extension": ".py",
   "mimetype": "text/x-python",
   "name": "python",
   "nbconvert_exporter": "python",
   "pygments_lexer": "ipython3",
   "version": "3.12.2"
  }
 },
 "nbformat": 4,
 "nbformat_minor": 0
}
